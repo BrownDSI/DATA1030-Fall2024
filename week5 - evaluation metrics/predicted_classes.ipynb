{
 "cells": [
  {
   "attachments": {},
   "cell_type": "markdown",
   "metadata": {},
   "source": [
    "# Mudcard\n",
    "- **For missing data of a continuous feature, can we get mean & variance of existing data and generate random values based on Normal(mean, variance) to fill in each missing value?**\n",
    "    - If the distribution of the feature is Gaussian, that would preserve the statistical properties of the feature\n",
    "    - But you still impute, you fill up the missing values with random numbers which is not great\n",
    "    - Think of a medical example where some test results (like some blood values) are missing. Do you think it's a good idea to replace missing test results with random numbers?\n",
    "    - You have no way to verify if the guesses are correct\n",
    "    - The reason why the values are missing could be important and some ML techniques can extract info from the missingness patterns.\n",
    "    - It's usually better just to leave the missing values as is and use ML techniques that can deal with them as is.\n",
    "- **what are we supposed to do when continuous variables are missing data points if the sklearn's simple imputer is a \"bad idea\"**\n",
    "    - As I said at the end of the class, we wil lcover three advanced techniques later in the term that can deal with missing values as is:\n",
    "    - multivariate imputation\n",
    "    - XGBoost\n",
    "    - reduced features method\n",
    "- **Could we ever change NA values to be zero? What contexts would that be useful for?**\n",
    "    - there might be some contexts where this could be useful but I'd be very careful about applying it."
   ]
  },
  {
   "cell_type": "markdown",
   "metadata": {
    "slideshow": {
     "slide_type": "slide"
    }
   },
   "source": [
    "## Evaluation metrics in supervised ML, part 1, classification\n",
    "By the end of this lecture, you will be able to\n",
    "- Describe the terms in the confusion matrix\n",
    "- Summarize and compare derived metrics (e.g., accuracy, recall, precision, f score)\n",
    "- Choose a metric most appropriate for your problem\n"
   ]
  },
  {
   "cell_type": "markdown",
   "metadata": {
    "slideshow": {
     "slide_type": "subslide"
    }
   },
   "source": [
    "## The supervised ML pipeline\n",
    "The goal: Use the training data (X and y) to develop a <font color='red'>model</font> which can <font color='red'>accurately</font> predict the target variable (y_new') for previously unseen data (X_new).\n",
    "\n",
    "**1. Exploratory Data Analysis (EDA)**: you need to understand your data and verify that it doesn't contain errors\n",
    "   - do as much EDA as you can!\n",
    "    \n",
    "**2. Split the data into different sets**: most often the sets are train, validation, and test (or holdout)\n",
    "   - practitioners often make errors in this step!\n",
    "   - you can split the data randomly, based on groups, based on time, or any other non-standard way if necessary to answer your ML question\n",
    "\n",
    "**3. Preprocess the data**: ML models only work if X and Y are numbers! Some ML models additionally require each feature to have 0 mean and 1 standard deviation (standardized features)\n",
    "   - often the original features you get contain strings (for example a gender feature would contain 'male', 'female', 'non-binary', 'unknown') which needs to transformed into numbers\n",
    "   - often the features are not standardized (e.g., age is between 0 and 100) but it needs to be standardized\n",
    "    \n",
    "<span style=\"background-color: #FFFF00\">**4. Choose an evaluation metric**: depends on the priorities of the stakeholders</span>\n",
    "   - often requires quite a bit of thinking and ethical considerations\n",
    "     \n",
    "**5. Choose one or more ML techniques**: it is highly recommended that you try multiple models\n",
    "   - start with simple models like linear or logistic regression\n",
    "   - try also more complex models like nearest neighbors, support vector machines, random forest, etc.\n",
    "    \n",
    "**6. Tune the hyperparameters of your ML models (aka cross-validation)**\n",
    "   - ML techniques have hyperparameters that you need to optimize to achieve best performance\n",
    "   - for each ML model, decide which parameters to tune and what values to try\n",
    "   - loop through each parameter combination\n",
    "       - train one model for each parameter combination\n",
    "       - evaluate how well the model performs on the validation set\n",
    "   - take the parameter combo that gives the best validation score\n",
    "   - evaluate that model on the test set to report how well the model is expected to perform on previously unseen data\n",
    "    \n",
    "**7. Interpret your model**: black boxes are often not useful\n",
    "   - check if your model uses features that make sense (excellent tool for debugging)\n",
    "   - often model predictions are not enough, you need to be able to explain how the model arrived to a particular prediction (e.g., in health care)"
   ]
  },
  {
   "cell_type": "markdown",
   "metadata": {
    "slideshow": {
     "slide_type": "subslide"
    }
   },
   "source": [
    "## Let's start\n",
    "- decide what metric we will use to evaluate the supervised ML model \n",
    "   - this is necessary even before we train the model\n",
    "   - we need to know what single number metric we will use to compare models and to select the best one\n",
    "- sklearn classifiers have two methods to return predictions\n",
    "   - .predict_proba which returns the probability that the point belongs to each class with shape (n_samples, n_classes)\n",
    "   - .predict which returns the predicted class for each point with shape (n_samples)"
   ]
  },
  {
   "cell_type": "markdown",
   "metadata": {
    "slideshow": {
     "slide_type": "subslide"
    }
   },
   "source": [
    "### .predict_proba vs. .predict\n",
    "\n",
    "`y_true = [1 0 1 1 0] # the true labels`\n",
    "\n",
    "`pred_probs = \n",
    "[[0.02796171 0.97203829]\n",
    " [0.89682444 0.10317556]\n",
    " [0.50104129 0.49895871]\n",
    " [0.13713222 0.86286778]\n",
    " [0.95707434 0.04292566]] # predicted probabilities show the model's confidence`\n",
    " \n",
    " `y_pred = [1 0 0 1 0] # predicted class`\n",
    " - pred_probs\n",
    "    - first column is the probability that the point belongs to class 0\n",
    "    - second column is the probability that the point belings to class 1\n",
    "    - the rows sum to 1\n",
    " - y_pred\n",
    "    - 0 if class 0 probability is equal or larger than 50% (or equivalently if class 1 probability is less than 50%)\n",
    "    - 1 if class 0 probability is less than 50% (or equivalently of class 1 probability is equal or larger than 50%)"
   ]
  },
  {
   "cell_type": "markdown",
   "metadata": {
    "slideshow": {
     "slide_type": "subslide"
    }
   },
   "source": [
    "### How to transform predicted probabilities to predicted class?"
   ]
  },
  {
   "cell_type": "code",
   "execution_count": 1,
   "metadata": {
    "slideshow": {
     "slide_type": "-"
    }
   },
   "outputs": [
    {
     "name": "stdout",
     "output_type": "stream",
     "text": [
      "[0 0 1 0 1 1 0 1 0 1]\n",
      "[0 1 1 0 0 1 0 0 0 1]\n"
     ]
    }
   ],
   "source": [
    "import numpy as np\n",
    "y_true = np.array([0,0,1,0,1,1,0,1,0,1]) # the true classification labels of the dataset\n",
    "# pred_probs_class1 is the second column of pred_probs\n",
    "pred_probs_class1 = np.array([0.3, 0.7,  0.55, 0.12, 0.45, 0.89, 0.41, 0.02, 0.29, 0.85])\n",
    "p_crit =  0.5\n",
    "\n",
    "# If predicted probability is < p_crit (by default 0.5), predicted class is 0, otherwise it is 1.\n",
    "y_pred = np.zeros(len(pred_probs_class1),dtype=int)\n",
    "y_pred[pred_probs_class1 <= p_crit] = 0\n",
    "y_pred[pred_probs_class1 > p_crit] = 1\n",
    "\n",
    "print(y_true)\n",
    "print(y_pred) # the predicted classification labels"
   ]
  },
  {
   "cell_type": "markdown",
   "metadata": {
    "slideshow": {
     "slide_type": "subslide"
    }
   },
   "source": [
    "For now, we focus on evaluation metrics applicable to predicted classes!\n",
    "\n",
    "We work with y_true and y_pred arrays.\n",
    "\n",
    "Next, we will work with metrics applicable to pred_probs and regression problems."
   ]
  },
  {
   "cell_type": "markdown",
   "metadata": {
    "slideshow": {
     "slide_type": "slide"
    }
   },
   "source": [
    "## <font color='LIGHTGRAY'>Evaluation metrics in supervised ML, part 1, classification</font>\n",
    "<font color='LIGHTGRAY'>By the end of this lecture, you will be able to</font>\n",
    "- **Describe the terms in the confusion matrix**\n",
    "- <font color='LIGHTGRAY'>Summarize and compare derived metrics (e.g., accuracy, recall, precision, f score)</font>\n",
    "- <font color='LIGHTGRAY'>Choose a metric most appropriate for your problem</font>\n"
   ]
  },
  {
   "cell_type": "markdown",
   "metadata": {
    "slideshow": {
     "slide_type": "subslide"
    }
   },
   "source": [
    "## The confusion matrix\n",
    "\n",
    "`y_true = [0, 0, 1, 0, 1, 1, 0, 1, 0, 1] # the true classification labels of the dataset`\n",
    "\n",
    "`y_pred = [0, 1, 1, 0, 0, 1, 0, 0, 0, 1] # the predicted classification labels`\n",
    "\n",
    "Let's count how many points we have in four categories:\n",
    "\n",
    "- true label is 0, predicted label is 0 - **True Negatives**\n",
    "- true label is 1, predicted label is 1 - **True Positives**\n",
    "- true label is 0, predicted label is 1 - **False Positive**\n",
    "- true label is 1, predicted label is 0 - **False Negative**\n",
    "\n",
    "Generally, the confusion matrix $C$ is such that $C_{i,j}$ is equal to the number of observations known to be in group $i$ but predicted to be in group $j$."
   ]
  },
  {
   "cell_type": "markdown",
   "metadata": {
    "slideshow": {
     "slide_type": "subslide"
    }
   },
   "source": [
    "## Back to our example:\n",
    "\n",
    "`y_true = [0, 0, 1, 0, 1, 1, 0, 1, 0, 1] # the true classification labels of the dataset`\n",
    "\n",
    "`y_pred = [0, 1, 1, 0, 0, 1, 0, 0, 0, 1] # the predicted classification labels`\n",
    "\n",
    "\n",
    "<table>\n",
    "    <tr>\n",
    "        <td colspan=\"2\" rowspan=\"2\"></td>\n",
    "        <td colspan=\"2\">Predicted class</td>\t\t\t\n",
    "    </tr>\n",
    "    <tr>\n",
    "        <td>Predicted Negative (0)</td>\n",
    "        <td>Predicted Positive (1)</td>\n",
    "    </tr>\n",
    "    <tr>\n",
    "        <td rowspan=\"2\">Actual class</td>\n",
    "        <td>Condition Negative (0)</td>\n",
    "        <td><b>True Negative (TN): 4</b></td>\n",
    "        <td><b>False Positive (FP): 1</b></td>\n",
    "    </tr>\n",
    "    <tr>\n",
    "        <td>Condition Positive (1)</td>\n",
    "        <td><b>False Negative (FN): 2</b></td>\n",
    "        <td><b>True Positive (TP): 3</b></td>\n",
    "    </tr>\n",
    "</table>\n"
   ]
  },
  {
   "cell_type": "markdown",
   "metadata": {
    "slideshow": {
     "slide_type": "subslide"
    }
   },
   "source": [
    "## In sklearn"
   ]
  },
  {
   "cell_type": "code",
   "execution_count": 2,
   "metadata": {},
   "outputs": [
    {
     "name": "stdout",
     "output_type": "stream",
     "text": [
      "[[4 1]\n",
      " [2 3]]\n"
     ]
    }
   ],
   "source": [
    "from sklearn.metrics import confusion_matrix\n",
    "\n",
    "y_true = [0,0,1,0,1,1,0,1,0,1]\n",
    "y_pred = [0,1,1,0,0,1,0,0,0,1]\n",
    "print(confusion_matrix(y_true,y_pred))"
   ]
  },
  {
   "cell_type": "code",
   "execution_count": 3,
   "metadata": {
    "slideshow": {
     "slide_type": "skip"
    }
   },
   "outputs": [
    {
     "data": {
      "image/png": "[encoded data removed]",
      "text/plain": [
       "<Figure size 500x300 with 2 Axes>"
      ]
     },
     "metadata": {},
     "output_type": "display_data"
    }
   ],
   "source": [
    "# https://scikit-learn.org/stable/modules/generated/sklearn.metrics.ConfusionMatrixDisplay\n",
    "# check out also https://scikit-learn.org/stable/modules/generated/sklearn.metrics.plot_confusion_matrix.html\n",
    "import matplotlib.pyplot as plt\n",
    "from sklearn.metrics import ConfusionMatrixDisplay\n",
    "\n",
    "cm = confusion_matrix(y_true,y_pred)\n",
    "disp = ConfusionMatrixDisplay(cm,display_labels=['class 0', 'class 1'])\n",
    "fig, ax = plt.subplots(figsize=(5,3))\n",
    "disp.plot(ax=ax)\n",
    "plt.tight_layout()\n",
    "plt.show()\n"
   ]
  },
  {
   "cell_type": "markdown",
   "metadata": {
    "slideshow": {
     "slide_type": "slide"
    }
   },
   "source": [
    "## Quiz 1\n",
    "\n",
    "Calculate what fraction of the data points are correctly classified in the example below. Visualize the confusion matrix (not part of the quiz)!"
   ]
  },
  {
   "cell_type": "code",
   "execution_count": 9,
   "metadata": {},
   "outputs": [
    {
     "data": {
      "image/png": "[encoded data removed]",
      "text/plain": [
       "<Figure size 500x300 with 2 Axes>"
      ]
     },
     "metadata": {},
     "output_type": "display_data"
    }
   ],
   "source": [
    "y_true = np.array([0,0,2,1,1,0,2,2,2,0,1,1,0,0,0,1])\n",
    "y_pred = np.array([0,1,0,1,0,0,2,2,1,0,1,1,0,0,1,2])\n",
    "cm = confusion_matrix(y_true,y_pred)\n",
    "disp = ConfusionMatrixDisplay(cm,display_labels=['class 0', 'class 1', 'class 2'])\n",
    "fig, ax = plt.subplots(figsize=(5,3))\n",
    "disp.plot(ax=ax)\n",
    "plt.tight_layout()\n",
    "plt.show()"
   ]
  },
  {
   "cell_type": "markdown",
   "metadata": {
    "slideshow": {
     "slide_type": "slide"
    }
   },
   "source": [
    "## <font color='LIGHTGRAY'>Evaluation metrics in supervised ML, part 1, classification</font>\n",
    "<font color='LIGHTGRAY'>By the end of this lecture, you will be able to</font>\n",
    "- <font color='LIGHTGRAY'>Describe the terms in the confusion matrix</font>\n",
    "- **Summarize and compare derived metrics (e.g., accuracy, recall, precision, f score)**\n",
    "- <font color='LIGHTGRAY'>Choose a metric most appropriate for your problem</font>\n"
   ]
  },
  {
   "cell_type": "markdown",
   "metadata": {
    "slideshow": {
     "slide_type": "slide"
    }
   },
   "source": [
    "## Metrics derived from $C$\n",
    "$C$ contains $n_{classes}^2$ elements but we need a single number metric to easily compare various models.\n",
    "\n",
    "For two classes:\n",
    "\n",
    "\n",
    "<table>\n",
    "    <tr>\n",
    "        <td colspan=\"2\" rowspan=\"2\"></td>\n",
    "        <td colspan=\"2\">Predicted class</td>\t\t\t\n",
    "    </tr>\n",
    "    <tr>\n",
    "        <td>Predicted Negative (0)</td>\n",
    "        <td>Predicted Positive (1)</td>\n",
    "    </tr>\n",
    "    <tr>\n",
    "        <td rowspan=\"2\">Actual class</td>\n",
    "        <td>Condition Negative (0)</td>\n",
    "        <td><b>True Negative (TN)</b></td>\n",
    "        <td><b>False Positive (FP)</b></td>\n",
    "    </tr>\n",
    "    <tr>\n",
    "        <td>Condition Positive (1)</td>\n",
    "        <td><b>False Negative (FN)</b></td>\n",
    "        <td><b>True Positive (TP)</b></td>\n",
    "    </tr>\n",
    "</table>\n",
    "\n",
    "\n",
    "Some single number metrics derived from $C$:\n",
    "- accuracy: fraction of data points correctly classified\n",
    "   - $a = \\sum_i C_{i,i} / \\sum C$ = (TP + TN) / (TP + TN + FP + FN)\n",
    "- recall: what fraction of the condition positive samples are true positives?\n",
    "   - it measures the ability of the classifier to identify all positive samples\n",
    "   - in binary classification: R = TP / (TP + FN)\n",
    "- precision: what fraction of the predicted positive points are true positives?\n",
    "   - it measures the ability of the classifier to not predict a negative sample to be positive\n",
    "   - in binary classification: P = TP / (TP + FP)"
   ]
  },
  {
   "cell_type": "markdown",
   "metadata": {
    "slideshow": {
     "slide_type": "subslide"
    }
   },
   "source": [
    "<table>\n",
    "    <tr>\n",
    "        <td colspan=\"2\" rowspan=\"2\"></td>\n",
    "        <td colspan=\"2\">Predicted class</td>\t\t\t\n",
    "    </tr>\n",
    "    <tr>\n",
    "        <td>Predicted Negative (0)</td>\n",
    "        <td>Predicted Positive (1)</td>\n",
    "    </tr>\n",
    "    <tr>\n",
    "        <td rowspan=\"2\">Actual class</td>\n",
    "        <td>Condition Negative (0)</td>\n",
    "        <td><b>True Negative (TN)</b></td>\n",
    "        <td><b>False Positive (FP)</b></td>\n",
    "    </tr>\n",
    "    <tr>\n",
    "        <td>Condition Positive (1)</td>\n",
    "        <td><b>False Negative (FN)</b></td>\n",
    "        <td><b>True Positive (TP)</b></td>\n",
    "    </tr>\n",
    "</table>\n",
    "\n",
    "A = (TP + TN) / (TP + TN + FP + FN) \n",
    "\n",
    "R = TP / (TP + FN) = TP / CP\n",
    "\n",
    "P = TP / (TP + FP) = TP / PP"
   ]
  },
  {
   "cell_type": "markdown",
   "metadata": {
    "slideshow": {
     "slide_type": "subslide"
    }
   },
   "source": [
    "### The f_beta score\n",
    "Weighted harmonic mean of P and R:\n",
    "### <center> $f_{\\beta} = (1 + \\beta^2) \\frac{P R}{\\beta^2 P + R}$ </center>\n",
    "\n",
    "If $\\beta = 1$, we have the f1 score:\n",
    "### <center> $f_{1} = 2 \\frac{P R}{P + R}$ </center>\n",
    "\n",
    "If $\\beta < 1$, more weight to precision.\n",
    "\n",
    "If $\\beta > 1$, more weight to recall.\n",
    "\n"
   ]
  },
  {
   "cell_type": "markdown",
   "metadata": {
    "slideshow": {
     "slide_type": "subslide"
    }
   },
   "source": [
    "### The scores are a function of p_crit"
   ]
  },
  {
   "cell_type": "code",
   "execution_count": 14,
   "metadata": {
    "slideshow": {
     "slide_type": "-"
    }
   },
   "outputs": [
    {
     "name": "stdout",
     "output_type": "stream",
     "text": [
      "[0 0 1 0 1 1 0 1 0 1]\n",
      "[0 0 0 0 0 1 0 0 0 1]\n",
      "accuracy 0.7\n",
      "recall 0.4\n",
      "precision 1.0\n",
      "f1 0.5714285714285714\n"
     ]
    }
   ],
   "source": [
    "from sklearn.metrics import precision_score, recall_score, accuracy_score, fbeta_score\n",
    "\n",
    "y_true = np.array([0,0,1,0,1,1,0,1,0,1]) # the true classification labels of the dataset\n",
    "y_pred_proba = np.array([0.3, 0.7,  0.55, 0.12, 0.45, 0.89, 0.41, 0.02, 0.29, 0.85])\n",
    "\n",
    "p_crit = 0.75\n",
    "\n",
    "y_pred = np.zeros(len(y_pred_proba),dtype=int)\n",
    "y_pred[y_pred_proba <= p_crit] = 0\n",
    "y_pred[y_pred_proba > p_crit] = 1\n",
    "\n",
    "print(y_true)\n",
    "print(y_pred) # the predicted classification labels\n",
    "print('accuracy',accuracy_score(y_true,y_pred))\n",
    "print('recall',recall_score(y_true,y_pred))\n",
    "print('precision',precision_score(y_true,y_pred))\n",
    "print('f1',fbeta_score(y_true,y_pred,beta=1))"
   ]
  },
  {
   "cell_type": "markdown",
   "metadata": {
    "slideshow": {
     "slide_type": "slide"
    }
   },
   "source": [
    "## Quiz 2\n",
    "Given the true and predicted labels, what are the accuracy, recall, precision, and f1 scores? \n",
    "\n",
    "Do not use sklearn to answer the question! First construct the confusion matrix and then calculate the scores by hand!"
   ]
  },
  {
   "cell_type": "code",
   "execution_count": 6,
   "metadata": {},
   "outputs": [],
   "source": [
    "y_true = [0,0,0,1,1,1,0,0]\n",
    "y_pred = [0,1,0,1,1,0,0,0]\n",
    "\n"
   ]
  },
  {
   "cell_type": "markdown",
   "metadata": {
    "slideshow": {
     "slide_type": "slide"
    }
   },
   "source": [
    "## <font color='LIGHTGRAY'>Evaluation metrics in supervised ML, part 1, classification</font>\n",
    "<font color='LIGHTGRAY'>By the end of this lecture, you will be able to</font>\n",
    "- <font color='LIGHTGRAY'>Describe the terms in the confusion matrix</font>\n",
    "- <font color='LIGHTGRAY'>Summarize and compare derived metrics (e.g., accuracy, recall, precision, f score)</font>\n",
    "- **Choose a metric most appropriate for your problem**\n"
   ]
  },
  {
   "cell_type": "markdown",
   "metadata": {
    "slideshow": {
     "slide_type": "slide"
    }
   },
   "source": [
    "## How should you choose a metric?\n",
    "\n",
    "- What are the terms in the confusion matrix that you most (or least) care about?\n",
    "    - In an imbalanced dataset, TNs are large so you should use a metric that doesn't include TN\n",
    "    - no accuracy\n",
    "    - f score is usually preferred if your dataset is imbalanced\n",
    "- Will we act (intervene/apply treatment) on the model's prediction?\n",
    "    - Is it cheap to act? (e.g., mass email)\n",
    "       - we want to capture the largest fraction of the condition positive samples even if FPs will be large as a result\n",
    "       - recall or fbeta with beta > 1 (f1.5 or f2 are often used)\n",
    "    - Is it expensive to act? Do we have limited resources? Or treatment/action is costly?\n",
    "       - we want to make sure that the resources are allocated the best way possible\n",
    "       - want to make sure that a large fraction of the predicted positives are  true positives\n",
    "       - precision or fbeta with beta < 1 (f0.5 is often used)"
   ]
  },
  {
   "cell_type": "markdown",
   "metadata": {},
   "source": [
    "## Mudcard"
   ]
  },
  {
   "cell_type": "code",
   "execution_count": null,
   "metadata": {},
   "outputs": [],
   "source": []
  }
 ],
 "metadata": {
  "celltoolbar": "Slideshow",
  "kernelspec": {
   "display_name": "Python 3 (ipykernel)",
   "language": "python",
   "name": "python3"
  },
  "language_info": {
   "codemirror_mode": {
    "name": "ipython",
    "version": 3
   },
   "file_extension": ".py",
   "mimetype": "text/x-python",
   "name": "python",
   "nbconvert_exporter": "python",
   "pygments_lexer": "ipython3",
   "version": "3.12.5"
  }
 },
 "nbformat": 4,
 "nbformat_minor": 4
}
