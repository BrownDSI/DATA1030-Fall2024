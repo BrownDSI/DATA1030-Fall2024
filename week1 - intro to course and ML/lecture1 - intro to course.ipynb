{
 "cells": [
  {
   "cell_type": "markdown",
   "metadata": {},
   "source": [
    "# <center>Welcome to DATA1030: Hands-on Data Science!</center>\n",
    "## <center>Instructor: Andras Zsom</center>\n",
    "### <center>HTA: Subash Matu </center>\n",
    "### <center>TAs: Yicheng Lu, Chujun Chen, Xiner Zhao, Asher Labovich, </center>\n",
    "### <center>Yijia Xue, Mingjun Ma, Letian Yu, Sicheng Yang</center>"
   ]
  },
  {
   "cell_type": "markdown",
   "metadata": {},
   "source": [
    "# Time for our first Quiz!"
   ]
  },
  {
   "cell_type": "markdown",
   "metadata": {},
   "source": [
    "## The AI landscape\n",
    "\n",
    "<center><img src=\"figures/AI_landscape.png\" width=\"600\"></center>"
   ]
  },
  {
   "cell_type": "markdown",
   "metadata": {},
   "source": [
    "## The goal of this course: supervised Machine Learning (ML)\n",
    "- supervised ML is probably the most successful area in ML (based on value created)\n",
    "    - **online advertising**: given an ad and user info, will the user click on the ad?\n",
    "    - **real estate**: given home features, can we predict the house price?\n",
    "    - **finance**: given an applicant and a finalcial product (e.g., a loan), will this applicant be able to successfully pay back the loan?\n",
    "    - **health care**: given a patient, symptoms, and maybe test results, can we predict the illness? \n",
    "    - ...\n",
    "- supervised ML pros:\n",
    "    - **automation**: computers perform calculations faster than humans (and computers are cheaper)\n",
    "    - **learn from examples**: no need to explicitly tell the computer what to do. the computer figures out what to do based on examples (data)\n",
    "- supervised ML con:\n",
    "    - it can be difficult or labor-intensive to collect training data\n",
    "    - there is no guarantee that you will be able to develop an accurate model based on the data you have"
   ]
  },
  {
   "cell_type": "markdown",
   "metadata": {},
   "source": [
    "## Example: spam filters\n",
    "- Traditional coding pipeline with explicit instructions\n",
    "\n",
    "<center><img src=\"figures/traditional_pipeline.png\" width=\"600\"></center>"
   ]
  },
  {
   "cell_type": "markdown",
   "metadata": {},
   "source": [
    "## Example: spam filters\n",
    "- ML pipeline\n",
    "\n",
    "<center><img src=\"figures/ML_pipeline.png\" width=\"600\"></center>"
   ]
  },
  {
   "cell_type": "markdown",
   "metadata": {},
   "source": [
    "- the data: feature matrix (X) and target variable (Y)\n",
    "    - X can be structured (tabular data most commonly stored in excel and csv files or SQL databases)\n",
    "    - X can be unstructured (e.g., images, text, voice recording, video)\n",
    "    - Y can be categorical, the problem is **classification** (e.g., click or not click on an ad, sick or not sick)\n",
    "    - Y can be continuous, the problem is **regression** (e.g., predict house price, stock price, age)\n",
    "- **we focus on structured data during this class!**"
   ]
  },
  {
   "cell_type": "markdown",
   "metadata": {},
   "source": [
    "## Structured data\n",
    "| X|feature_1|feature_2|...|feature_j|...|feature_m|<font color='red'>Y</font>|\n",
    "|-|:-:|:-:|:-:|:-:|:-:|:-:|:-:|\n",
    "|__data_point_1__|x_11|x_12|...|x_1j|...|x_1m|__<font color='red'>y_1</font>__|\n",
    "|__data_point_2__|x_21|x_22|...|x_2j|...|x_2m|__<font color='red'>y_2</font>__|\n",
    "|__...__|...|...|...|...|...|...|__<font color='red'>...</font>__|\n",
    "|__data_point_i__|x_i1|x_i2|...|x_ij|...|x_im|__<font color='red'>y_i</font>__|\n",
    "|__...__|...|...|...|...|...|...|__<font color='red'>...</font>__|\n",
    "|__data_point_n__|x_n1|x_n2|...|x_nj|...|x_nm|__<font color='red'>y_n</font>__|"
   ]
  },
  {
   "cell_type": "markdown",
   "metadata": {},
   "source": [
    "## Other areas of ML\n",
    "- unsupervised ML \n",
    "   - only the feature matrix X is available, there is no target variable\n",
    "   - the goal is to find structure (clusters) in the data\n",
    "   - often used in customer segmentation\n",
    "- recommender systems\n",
    "   - recommend products to a customer based on what products similar customers enjoyed\n",
    "- reinforcement learning\n",
    "   - the learning system, called an agent, can observe the environment, select and perform actions, and get rewards and penalties in return. Goal: come up with strategy to maximize rewards\n",
    "   - often used when virtual environment is available (e.g., games like go or warcraft)\n",
    "   - sounds appealing to use in real environments (like self-driving cars) but agents learn slow, lots of cars would need to be broken to teach an agent to drive this way \n",
    "- deep learning\n",
    "   - uses neural networks and often works with unstructured data\n",
    "   - technically deep learning is supervised or unsupervised\n",
    "   - extremely successful on large datasets"
   ]
  },
  {
   "cell_type": "markdown",
   "metadata": {},
   "source": [
    "<center><img src=\"figures/shallow_vs_deep_learning.png\" width=\"500\"></center>"
   ]
  },
  {
   "cell_type": "markdown",
   "metadata": {},
   "source": [
    "## Quiz"
   ]
  },
  {
   "cell_type": "markdown",
   "metadata": {},
   "source": [
    "## Learning objectives\n",
    "By the end of the semester, you will be able to\n",
    "- explore and visualize the dataset,\n",
    "- develop a ML pipeline from scratch to deployment,\n",
    "- make data-driven decisions during the pipeline development,\n",
    "- handle non-standard ML problems like missing data, non-iid data,\n",
    "- provide explanations with your model,\n",
    "- explain your findings to technical and non-technical audiences."
   ]
  },
  {
   "cell_type": "markdown",
   "metadata": {},
   "source": [
    "## A few words about python\n",
    "- widely used in data science because of sklearn, pandas, deep learning packages\n",
    "    - packages are easy to (mis)use\n",
    "- relatively easy to write code but difficult to write computationally efficient code\n",
    "    - the divide between package developers and users is huge!\n",
    "    - you will need to spend a lot of time reading the manuals and verifying results\n",
    "- the lecture notes contain code that has been tested\n",
    "    - this is misleading!\n",
    "    - I spent a lot of time testing the code but I deleted those lines to keep the final code clean\n",
    "    - but when you write code, you should absolutely PRINT ALL VARIABLES and TEST EVERY SINGLE LINE!\n",
    "    - you will learn how to interpret error messages and how to debug your code\n",
    "- test-driven code development is encouraged\n",
    "    - first come up with a test\n",
    "        - create a couple of test cases with known results\n",
    "        - i.e., if my code does what I think it should, I'll get a certain output given certain input\n",
    "    - then write the code"
   ]
  },
  {
   "cell_type": "markdown",
   "metadata": {},
   "source": [
    "# Course structure\n",
    "### Canvas: https://canvas.brown.edu/courses/1096570\n"
   ]
  },
  {
   "cell_type": "markdown",
   "metadata": {},
   "source": [
    "## Course components:\n",
    "- lectures\n",
    "    - in person but recordings will be posted on canvas\n",
    "- weekly problem sets, submit them on [Gradescope](https://www.gradescope.com/courses/820166)\n",
    "    - coding problems and questions with 1-2 paragraph answers\n",
    "    - the questions prepare you for your job interviews\n",
    "- one semester-long project\n",
    "   - find a dataset and come up with your own machine learning question\n",
    "   - develop code individually, but feel free to discuss with others\n",
    "   - assigned TA mentor with regular dedicated meetings\n",
    "- final exam "
   ]
  },
  {
   "cell_type": "markdown",
   "metadata": {},
   "source": [
    "## Grading\n",
    "- weekly problem sets: **45%** weight\n",
    "- project: **45%** weight\n",
    "    - make sure to spend sufficient time on this each week!\n",
    "    - the semester will go by very quickly...\n",
    "- exam: **10%** weight \n",
    "- **90% minimum is necessary to get an A** but I reserve the right to lower the threshold\n",
    "- my experience is that Bs are rare, C is given under exceptional circumstances"
   ]
  },
  {
   "cell_type": "markdown",
   "metadata": {},
   "source": [
    "## Project\n",
    "- look for datasets on the [UCI Machine Learning Repository](https://archive.ics.uci.edu/ml/index.php), on [Kaggle](https://www.kaggle.com/), or google's [dataset search engine](https://datasetsearch.research.google.com/).\n",
    "- Bring your own dataset!\n",
    "   - if you have your own dataset you'd like to work with, this is the perfect opportunity!\n",
    "- Avoid the most popular datasets! \n",
    "   - no Titanic, no iris for example\n",
    "- NO STOCK OR CRYPTO PRICE PREDICTION! \n",
    "- avoid these four datasets because we will use them in class and you'll work with them in the problem sets\n",
    "   - [adult dataset](https://archive.ics.uci.edu/ml/datasets/Adult)\n",
    "   - [kaggle house price dataset](https://www.kaggle.com/c/house-prices-advanced-regression-techniques/overview)\n",
    "   - [hand postures dataset](https://archive.ics.uci.edu/ml/datasets/Motion+Capture+Hand+Postures)\n",
    "   - [diabetes dataset](https://scikit-learn.org/stable/datasets/index.html#diabetes-dataset)\n",
    "- work on a classification or regression problem!\n",
    "- start looking for datasets now and talk to the TAs or come to my office hours if you have questions!\n",
    "- **there are three main reasons why a ML problem is difficult:**\n",
    "  - missing data\n",
    "  - dataset is not IID (e.q., time series data, or one object is described by multiple data points)\n",
    "  - dataset is large (more than 100k points) so it is difficult to manage it on your laptop\n",
    "- **consider datasets with at least one difficulty!**"
   ]
  },
  {
   "cell_type": "markdown",
   "metadata": {},
   "source": [
    "## Override codes\n",
    "- DSI master's students get priority because the course is mandatory for them\n",
    "- submit override requests on cab.brown.edu\n",
    "- Please DO NOT send me emails about overrides! Overrides are determined by your semester level and concentration. Can't approve overrides via email.\n",
    "- From cab:\n",
    "\n",
    "\"If there is space left, the instructor will give out overrides during the shopping period (not sooner). Overrides are given based on your concentration and semester level. Here is the priority list: 1. Master’s and PhD students from STEM fields, 2. Master’s and PhD students from non-STEM fields (describe your coding and math background in cab when you request the override), 3. Undergraduate Seniors from STEM fields, 4. Undergraduate Seniors from non-STEM fields (describe your coding and math background in cab when you request the override), 5. Undergrad Juniors from STEM fields, 6. Undergrad Juniors from non-STEM fields (describe your coding and math background in cab when you request the override). It is unlikely we will be able to give overrides to Undergraduate Sophomore and Freshman.\"\n"
   ]
  },
  {
   "cell_type": "markdown",
   "metadata": {},
   "source": [
    "## Generative AI\n",
    "- while I can't ban generative AI tools (like ChatGPT, Gemini, github's copilot), I also don't recommend relying on them too much\n",
    "- I tried to solve some problem sets with ChatGPT's Code Interpreter (see [here](https://www.youtube.com/watch?v=rQWhR4VFjhk))\n",
    "- It is not very good with complex or ill-defined tasks\n",
    "- It is not reproducable\n",
    "- You might not be able to tell when it gives wrong answers while you are still learning\n",
    "- Most companies still do live coding interviews and technical interviews with no tools allowed\n",
    "    - you will likely not succeed on those if you rely too much on generative AI and code completion tools\n",
    "- Use generative AI if\n",
    "    - you need some help to debug your code\n",
    "    - you want to fix the grammar of some text you wrote\n",
    "    - you need some data science concept clarified\n",
    "- If you use generative AI\n",
    "    - cite the tool used\n",
    "    - describe how you used the tool (i.e., what was your prompt)\n",
    "    - disclose what was your contribution vs the tool's contribution\n",
    "- It is cheating to use generative AI to\n",
    "    - solve the coding exercises for you\n",
    "    - answer the essay questions for you\n",
    "- If you have any questions about academic integrity, plagiarism, what's considered cheating and what's not, don't hesitate to ask!"
   ]
  },
  {
   "cell_type": "markdown",
   "metadata": {},
   "source": [
    "## Rough deadlines \n",
    "- **1st project presentation**: early/mid October (multiple dates)\n",
    "    - short presentation on dataset, EDA, and ML question (6 min + 3 min questions per student)\n",
    "    - rubric will be available two weeks in advance\n",
    "- **final exam**: last lecture, some time early December\n",
    "- **final presentations**: second or third week of December\n",
    "    - another short presentation on ML pipeline and results\n",
    "    - rubric will be available two weeks in advance\n",
    "- **final project report**: second or third week of December\n",
    "    - the complete ML pipeline and results\n",
    "    - rubric will be available two weeks in advance\n",
    "- grades finalized and submitted by December 20th the latest\n",
    "- **Feel free to fly out on or after December 19th for the holidays as far as this course is concerned!**\n"
   ]
  },
  {
   "cell_type": "markdown",
   "metadata": {},
   "source": [
    "## Other course resources\n",
    "- [Ed discussion](https://edstem.org/us/courses/62043/): course forum\n",
    "    - feel free to discuss any questions or concerns regarding the material\n",
    "    - please post publicly whenever possible (but you can still post anonymously)\n",
    "        - if you have a question, it is likely that multiple students have the same question\n",
    "    - the TAs and I will keep an eye on it and answer questions in a timely manner\n",
    "    - disclaimer: I turn off my laptop after 5pm and during the weekends\n",
    "- office hours (TAs and mine)\n",
    "    - I'll post dates and locations on the course forum\n",
    "- An Introduction to Statistical Learning ([book](https://www.statlearning.com/))\n",
    "- Introduction to Machine Learning with Python ([book](https://www.amazon.com/Introduction-Machine-Learning-Python-Scientists/dp/1449369413))\n",
    "- Harry Potter and the Methods of Rationality ([fan fiction](http://www.hpmor.com/) by Eliezer Yudkowski)\n",
    "    - half joking, half serious about this one :)"
   ]
  },
  {
   "cell_type": "markdown",
   "metadata": {},
   "source": [
    "# Mud card"
   ]
  },
  {
   "cell_type": "code",
   "execution_count": null,
   "metadata": {},
   "outputs": [],
   "source": []
  }
 ],
 "metadata": {
  "kernelspec": {
   "display_name": "Python 3 (ipykernel)",
   "language": "python",
   "name": "python3"
  },
  "language_info": {
   "codemirror_mode": {
    "name": "ipython",
    "version": 3
   },
   "file_extension": ".py",
   "mimetype": "text/x-python",
   "name": "python",
   "nbconvert_exporter": "python",
   "pygments_lexer": "ipython3",
   "version": "3.12.5"
  }
 },
 "nbformat": 4,
 "nbformat_minor": 4
}
