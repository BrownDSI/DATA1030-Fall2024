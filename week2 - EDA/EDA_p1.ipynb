{
 "cells": [
  {
   "attachments": {},
   "cell_type": "markdown",
   "metadata": {},
   "source": [
    "## Mud card\n",
    "- **I hope we could spend more time in coding examples rather than conceptual review. For example, in today's lecture, when covering steps of ML pipeline, I hope we could have more time go through real examples in the jupyter notebook.**\n",
    "- **Could we cover the bias-variance tradeoff as it relates to the pipeline we looked at in class with the toys? That was never explicitly mentioned.**\n",
    "    - I won't always have time to go through the code line by line.\n",
    "    - The expectation is that you'll study between classes and work with the code yourself.\n",
    "    - You can also come to the review office hours on Fridays 2-4pm. The TAs will walk through the coding examples and answer all your questions.\n",
    "- **Generally, it felt like we went through the bias-variance tradeoff example quickly. I didn't totally understand the mechanics of the cross-validation/tuning the \"hyperparameters\" (what is a hyperparameter?) process, though I felt like I could interpret the plot of the tradeoff.**\n",
    "    - rewatch the video and work with the coding example after class\n",
    "    - but we will also revisit this concept many times once we learn about ML models and hyperparameters.\n",
    "- **I'm a bit confused on why model interpretability helps one to debug one's code**\n",
    "    - Yeah, I had to rush at the end of the lecture a bit\n",
    "    - Interpretability helps to understand how your model works, what features contribute the most to making predictions.\n",
    "    - If you see that the model relies on an unexpected feature that the doman experts can't explain or didn't expect, that's usually a sign for a bug or some other issue in your code.\n",
    "    - Interpretability also helps to identify racial and gender biases in your model.\n",
    "- **Generally, I understand the train-validation-test split breakup of the data, but I'd like to get a better understanding of it and feel more comfortable.¬† Particularly with how the validation and test data differ!**\n",
    "    - We cover data splitting in 2 weeks! :)\n",
    "- **I felt a little confused as to how the generalization error is used to help us make a better model. My thoughts were that it helps to ensure that the model is consistent throughout all the data, but I'm not sure.**\n",
    "    - Calculating the generalization error does not make your model better.\n",
    "    - It tells you how well your model is expected to perform on previously unseen data once it is deployed.\n",
    "- **When choosing the structured/tabular data for our individual project, what structure of the data would you expect in terms of how many dependant and independent variables there are?**\n",
    "    - Those are statistician terms :)\n",
    "    - There needs to be one target variable you want to predict (either regression or classification), and as many features as you want, there is no upper limit on that. \n",
    "- **Confused on difference between hold out set and test set. Are they the same?**\n",
    "    - The three sets are either train/validation/test or train/test/holdout. It's a naming difference. The third set is used to calculate the generalization error irrespective of how it is called. "
   ]
  },
  {
   "cell_type": "markdown",
   "metadata": {
    "slideshow": {
     "slide_type": "slide"
    }
   },
   "source": [
    "# <center> Exploratory data analysis in python, part 1 </center>"
   ]
  },
  {
   "cell_type": "markdown",
   "metadata": {},
   "source": [
    "## The steps\n",
    "\n",
    "<span style=\"background-color: #FFFF00\">**1. Exploratory Data Analysis (EDA)**: you need to understand your data and verify that it doesn't contain errors</span>\n",
    "   - do as much EDA as you can!\n",
    "    \n",
    "**2. Split the data into different sets**: most often the sets are train, validation, and test (or holdout)\n",
    "   - practitioners often make errors in this step!\n",
    "   - you can split the data randomly, based on groups, based on time, or any other non-standard way if necessary to answer your ML question\n",
    "\n",
    "**3. Preprocess the data**: ML models only work if X and Y are numbers! Some ML models additionally require each feature to have 0 mean and 1 standard deviation (standardized features)\n",
    "   - often the original features you get contain strings (for example a gender feature would contain 'male', 'female', 'non-binary', 'unknown') which needs to transformed into numbers\n",
    "   - often the features are not standardized (e.g., age is between 0 and 100) but it needs to be standardized\n",
    "    \n",
    "**4. Choose an evaluation metric**: depends on the priorities of the stakeholders\n",
    "   - often requires quite a bit of thinking and ethical considerations\n",
    "     \n",
    "**5. Choose one or more ML techniques**: it is highly recommended that you try multiple models\n",
    "   - start with simple models like linear or logistic regression\n",
    "   - try also more complex models like nearest neighbors, support vector machines, random forest, etc.\n",
    "    \n",
    "**6. Tune the hyperparameters of your ML models (aka cross-validation)**\n",
    "   - ML techniques have hyperparameters that you need to optimize to achieve best performance\n",
    "   - for each ML model, decide which parameters to tune and what values to try\n",
    "   - loop through each parameter combination\n",
    "       - train one model for each parameter combination\n",
    "       - evaluate how well the model performs on the validation set\n",
    "   - take the parameter combo that gives the best validation score\n",
    "   - evaluate that model on the test set to report how well the model is expected to perform on previously unseen data\n",
    "    \n",
    "**7. Interpret your model**: black boxes are often not useful\n",
    "   - check if your model uses features that make sense (excellent tool for debugging)\n",
    "   - often model predictions are not enough, you need to be able to explain how the model arrived to a particular prediction (e.g., in health care)"
   ]
  },
  {
   "cell_type": "markdown",
   "metadata": {
    "slideshow": {
     "slide_type": "slide"
    }
   },
   "source": [
    "## <center> Pandas </center>\n",
    "\n",
    "- data are often distributed over multiple files/databases (e.g., csv and excel files, sql databases)\n",
    "- each file/database is read into a pandas dataframe\n",
    "- you often need to filter dataframes (select specific rows/columns based on index or condition)\n",
    "- pandas dataframes can be merged and appended"
   ]
  },
  {
   "cell_type": "markdown",
   "metadata": {
    "slideshow": {
     "slide_type": "slide"
    }
   },
   "source": [
    "### Some notes and advice\n",
    "\n",
    "- **ALWAYS READ THE HELP OF THE METHODS/FUNCTIONS YOU USE!**\n",
    "\n",
    "- stackoverflow is your friend, use it! https://stackoverflow.com/\n",
    "\n",
    "- you can also use generative AI (like github copilot, bard, or chatGPT's code interpreter) to help you fix bugs\n"
   ]
  },
  {
   "cell_type": "markdown",
   "metadata": {
    "slideshow": {
     "slide_type": "slide"
    }
   },
   "source": [
    "# <center> Data transformations: pandas data frames </center>\n",
    "### By the end of this lecture, you will be able to\n",
    "   - read in csv, excel, and sql data into a pandas data frame\n",
    "   - filter rows in various ways\n",
    "   - select columns\n",
    "   - merge and append data frames"
   ]
  },
  {
   "cell_type": "markdown",
   "metadata": {
    "slideshow": {
     "slide_type": "slide"
    }
   },
   "source": [
    "# <font color='LIGHTGRAY'><center> Data transformations: pandas data frames </center></font>\n",
    "###  <font color='LIGHTGRAY'>By the end of this lecture, you will be able to</font>\n",
    "   - **read in csv, excel, and sql data into a pandas data frame**\n",
    "   -  <font color='LIGHTGRAY'>filter rows in various ways</font>\n",
    "   -  <font color='LIGHTGRAY'>select columns</font>\n",
    "   -  <font color='LIGHTGRAY'>merge and append data frames</font>"
   ]
  },
  {
   "cell_type": "code",
   "execution_count": 1,
   "metadata": {
    "slideshow": {
     "slide_type": "subslide"
    }
   },
   "outputs": [
    {
     "name": "stdout",
     "output_type": "stream",
     "text": [
      "15\n"
     ]
    }
   ],
   "source": [
    "# how to read in a database into a dataframe and basic dataframe structure\n",
    "import pandas as pd\n",
    "\n",
    "# load data from a csv file\n",
    "df = pd.read_csv('data/adult_data.csv') # there are also pd.read_excel(), and pd.read_sql()\n",
    "\n",
    "#print(df)\n",
    "#help(df.head)\n",
    "#print(df.head(10)) # by default, shows the first five rows but check help(df.head) to specify the number of rows to show\n",
    "#print(df.shape) # the shape of your dataframe (number of rows, number of columns)\n",
    "#print(df.shape[0]) # number of rows\n",
    "print(df.shape[1]) # number of columns"
   ]
  },
  {
   "cell_type": "markdown",
   "metadata": {
    "slideshow": {
     "slide_type": "notes"
    }
   },
   "source": [
    "### Packages\n",
    "\n",
    "A package is a collection of classes and functions.\n",
    "- a dataframe (pd.DataFrame()) is a pandas class\n",
    "    - a class is the blueprint of how the data should be organized \n",
    "    - classes have methods which can perform operations on the data (e.g., .head(), .shape)\n",
    "- df is an object, an instance of the class.\n",
    "    - we put data into the class \n",
    "    - methods are attached to objects \n",
    "       - you cannot call pd.head(), you can only call df.head()\n",
    "- read_csv is a function\n",
    "    - functions are called from the package\n",
    "    - you cannot call df.read_csv, you can only call pd.read_csv()\n"
   ]
  },
  {
   "cell_type": "markdown",
   "metadata": {
    "slideshow": {
     "slide_type": "subslide"
    }
   },
   "source": [
    "### DataFrame structure: both rows and columns are indexed!\n",
    "- index column, no name\n",
    "    - contains the row names\n",
    "    - by default, index is a range object from 0 to number of rows - 1 \n",
    "    - any column can be turned into an index, so indices can be non-number, and also non-unique. more on this later.\n",
    "- columns with column names on top"
   ]
  },
  {
   "cell_type": "markdown",
   "metadata": {
    "slideshow": {
     "slide_type": "subslide"
    }
   },
   "source": [
    "### Always print your dataframe to check if it looks ok!\n",
    "\n",
    "### Most common reasons it might not look ok:\n",
    "\n",
    "   - the first row is not the column name\n",
    "        - there are rows above the column names that need to be skipped\n",
    "        - there is no column name but by default, pandas assumes the first row is the column name. as a result, \n",
    "          the values of the first row end up as column names.\n",
    "   - character encoding is off\n",
    "   - separator is not comma but some other charachter"
   ]
  },
  {
   "cell_type": "code",
   "execution_count": 2,
   "metadata": {
    "slideshow": {
     "slide_type": "subslide"
    }
   },
   "outputs": [
    {
     "name": "stdout",
     "output_type": "stream",
     "text": [
      "Help on function read_csv in module pandas.io.parsers.readers:\n",
      "\n",
      "read_csv(filepath_or_buffer: 'FilePath | ReadCsvBuffer[bytes] | ReadCsvBuffer[str]', *, sep: 'str | None | lib.NoDefault' = <no_default>, delimiter: 'str | None | lib.NoDefault' = None, header: \"int | Sequence[int] | None | Literal['infer']\" = 'infer', names: 'Sequence[Hashable] | None | lib.NoDefault' = <no_default>, index_col: 'IndexLabel | Literal[False] | None' = None, usecols: 'UsecolsArgType' = None, dtype: 'DtypeArg | None' = None, engine: 'CSVEngine | None' = None, converters: 'Mapping[Hashable, Callable] | None' = None, true_values: 'list | None' = None, false_values: 'list | None' = None, skipinitialspace: 'bool' = False, skiprows: 'list[int] | int | Callable[[Hashable], bool] | None' = None, skipfooter: 'int' = 0, nrows: 'int | None' = None, na_values: 'Hashable | Iterable[Hashable] | Mapping[Hashable, Iterable[Hashable]] | None' = None, keep_default_na: 'bool' = True, na_filter: 'bool' = True, verbose: 'bool | lib.NoDefault' = <no_default>, skip_blank_lines: 'bool' = True, parse_dates: 'bool | Sequence[Hashable] | None' = None, infer_datetime_format: 'bool | lib.NoDefault' = <no_default>, keep_date_col: 'bool | lib.NoDefault' = <no_default>, date_parser: 'Callable | lib.NoDefault' = <no_default>, date_format: 'str | dict[Hashable, str] | None' = None, dayfirst: 'bool' = False, cache_dates: 'bool' = True, iterator: 'bool' = False, chunksize: 'int | None' = None, compression: 'CompressionOptions' = 'infer', thousands: 'str | None' = None, decimal: 'str' = '.', lineterminator: 'str | None' = None, quotechar: 'str' = '\"', quoting: 'int' = 0, doublequote: 'bool' = True, escapechar: 'str | None' = None, comment: 'str | None' = None, encoding: 'str | None' = None, encoding_errors: 'str | None' = 'strict', dialect: 'str | csv.Dialect | None' = None, on_bad_lines: 'str' = 'error', delim_whitespace: 'bool | lib.NoDefault' = <no_default>, low_memory: 'bool' = True, memory_map: 'bool' = False, float_precision: \"Literal['high', 'legacy'] | None\" = None, storage_options: 'StorageOptions | None' = None, dtype_backend: 'DtypeBackend | lib.NoDefault' = <no_default>) -> 'DataFrame | TextFileReader'\n",
      "    Read a comma-separated values (csv) file into DataFrame.\n",
      "\n",
      "    Also supports optionally iterating or breaking of the file\n",
      "    into chunks.\n",
      "\n",
      "    Additional help can be found in the online docs for\n",
      "    `IO Tools <https://pandas.pydata.org/pandas-docs/stable/user_guide/io.html>`_.\n",
      "\n",
      "    Parameters\n",
      "    ----------\n",
      "    filepath_or_buffer : str, path object or file-like object\n",
      "        Any valid string path is acceptable. The string could be a URL. Valid\n",
      "        URL schemes include http, ftp, s3, gs, and file. For file URLs, a host is\n",
      "        expected. A local file could be: file://localhost/path/to/table.csv.\n",
      "\n",
      "        If you want to pass in a path object, pandas accepts any ``os.PathLike``.\n",
      "\n",
      "        By file-like object, we refer to objects with a ``read()`` method, such as\n",
      "        a file handle (e.g. via builtin ``open`` function) or ``StringIO``.\n",
      "    sep : str, default ','\n",
      "        Character or regex pattern to treat as the delimiter. If ``sep=None``, the\n",
      "        C engine cannot automatically detect\n",
      "        the separator, but the Python parsing engine can, meaning the latter will\n",
      "        be used and automatically detect the separator from only the first valid\n",
      "        row of the file by Python's builtin sniffer tool, ``csv.Sniffer``.\n",
      "        In addition, separators longer than 1 character and different from\n",
      "        ``'\\s+'`` will be interpreted as regular expressions and will also force\n",
      "        the use of the Python parsing engine. Note that regex delimiters are prone\n",
      "        to ignoring quoted data. Regex example: ``'\\r\\t'``.\n",
      "    delimiter : str, optional\n",
      "        Alias for ``sep``.\n",
      "    header : int, Sequence of int, 'infer' or None, default 'infer'\n",
      "        Row number(s) containing column labels and marking the start of the\n",
      "        data (zero-indexed). Default behavior is to infer the column names: if no ``names``\n",
      "        are passed the behavior is identical to ``header=0`` and column\n",
      "        names are inferred from the first line of the file, if column\n",
      "        names are passed explicitly to ``names`` then the behavior is identical to\n",
      "        ``header=None``. Explicitly pass ``header=0`` to be able to\n",
      "        replace existing names. The header can be a list of integers that\n",
      "        specify row locations for a :class:`~pandas.MultiIndex` on the columns\n",
      "        e.g. ``[0, 1, 3]``. Intervening rows that are not specified will be\n",
      "        skipped (e.g. 2 in this example is skipped). Note that this\n",
      "        parameter ignores commented lines and empty lines if\n",
      "        ``skip_blank_lines=True``, so ``header=0`` denotes the first line of\n",
      "        data rather than the first line of the file.\n",
      "    names : Sequence of Hashable, optional\n",
      "        Sequence of column labels to apply. If the file contains a header row,\n",
      "        then you should explicitly pass ``header=0`` to override the column names.\n",
      "        Duplicates in this list are not allowed.\n",
      "    index_col : Hashable, Sequence of Hashable or False, optional\n",
      "      Column(s) to use as row label(s), denoted either by column labels or column\n",
      "      indices.  If a sequence of labels or indices is given, :class:`~pandas.MultiIndex`\n",
      "      will be formed for the row labels.\n",
      "\n",
      "      Note: ``index_col=False`` can be used to force pandas to *not* use the first\n",
      "      column as the index, e.g., when you have a malformed file with delimiters at\n",
      "      the end of each line.\n",
      "    usecols : Sequence of Hashable or Callable, optional\n",
      "        Subset of columns to select, denoted either by column labels or column indices.\n",
      "        If list-like, all elements must either\n",
      "        be positional (i.e. integer indices into the document columns) or strings\n",
      "        that correspond to column names provided either by the user in ``names`` or\n",
      "        inferred from the document header row(s). If ``names`` are given, the document\n",
      "        header row(s) are not taken into account. For example, a valid list-like\n",
      "        ``usecols`` parameter would be ``[0, 1, 2]`` or ``['foo', 'bar', 'baz']``.\n",
      "        Element order is ignored, so ``usecols=[0, 1]`` is the same as ``[1, 0]``.\n",
      "        To instantiate a :class:`~pandas.DataFrame` from ``data`` with element order\n",
      "        preserved use ``pd.read_csv(data, usecols=['foo', 'bar'])[['foo', 'bar']]``\n",
      "        for columns in ``['foo', 'bar']`` order or\n",
      "        ``pd.read_csv(data, usecols=['foo', 'bar'])[['bar', 'foo']]``\n",
      "        for ``['bar', 'foo']`` order.\n",
      "\n",
      "        If callable, the callable function will be evaluated against the column\n",
      "        names, returning names where the callable function evaluates to ``True``. An\n",
      "        example of a valid callable argument would be ``lambda x: x.upper() in\n",
      "        ['AAA', 'BBB', 'DDD']``. Using this parameter results in much faster\n",
      "        parsing time and lower memory usage.\n",
      "    dtype : dtype or dict of {Hashable : dtype}, optional\n",
      "        Data type(s) to apply to either the whole dataset or individual columns.\n",
      "        E.g., ``{'a': np.float64, 'b': np.int32, 'c': 'Int64'}``\n",
      "        Use ``str`` or ``object`` together with suitable ``na_values`` settings\n",
      "        to preserve and not interpret ``dtype``.\n",
      "        If ``converters`` are specified, they will be applied INSTEAD\n",
      "        of ``dtype`` conversion.\n",
      "\n",
      "        .. versionadded:: 1.5.0\n",
      "\n",
      "            Support for ``defaultdict`` was added. Specify a ``defaultdict`` as input where\n",
      "            the default determines the ``dtype`` of the columns which are not explicitly\n",
      "            listed.\n",
      "    engine : {'c', 'python', 'pyarrow'}, optional\n",
      "        Parser engine to use. The C and pyarrow engines are faster, while the python engine\n",
      "        is currently more feature-complete. Multithreading is currently only supported by\n",
      "        the pyarrow engine.\n",
      "\n",
      "        .. versionadded:: 1.4.0\n",
      "\n",
      "            The 'pyarrow' engine was added as an *experimental* engine, and some features\n",
      "            are unsupported, or may not work correctly, with this engine.\n",
      "    converters : dict of {Hashable : Callable}, optional\n",
      "        Functions for converting values in specified columns. Keys can either\n",
      "        be column labels or column indices.\n",
      "    true_values : list, optional\n",
      "        Values to consider as ``True`` in addition to case-insensitive variants of 'True'.\n",
      "    false_values : list, optional\n",
      "        Values to consider as ``False`` in addition to case-insensitive variants of 'False'.\n",
      "    skipinitialspace : bool, default False\n",
      "        Skip spaces after delimiter.\n",
      "    skiprows : int, list of int or Callable, optional\n",
      "        Line numbers to skip (0-indexed) or number of lines to skip (``int``)\n",
      "        at the start of the file.\n",
      "\n",
      "        If callable, the callable function will be evaluated against the row\n",
      "        indices, returning ``True`` if the row should be skipped and ``False`` otherwise.\n",
      "        An example of a valid callable argument would be ``lambda x: x in [0, 2]``.\n",
      "    skipfooter : int, default 0\n",
      "        Number of lines at bottom of file to skip (Unsupported with ``engine='c'``).\n",
      "    nrows : int, optional\n",
      "        Number of rows of file to read. Useful for reading pieces of large files.\n",
      "    na_values : Hashable, Iterable of Hashable or dict of {Hashable : Iterable}, optional\n",
      "        Additional strings to recognize as ``NA``/``NaN``. If ``dict`` passed, specific\n",
      "        per-column ``NA`` values.  By default the following values are interpreted as\n",
      "        ``NaN``: \" \", \"#N/A\", \"#N/A N/A\", \"#NA\", \"-1.#IND\", \"-1.#QNAN\", \"-NaN\", \"-nan\",\n",
      "        \"1.#IND\", \"1.#QNAN\", \"<NA>\", \"N/A\", \"NA\", \"NULL\", \"NaN\", \"None\",\n",
      "        \"n/a\", \"nan\", \"null \".\n",
      "\n",
      "    keep_default_na : bool, default True\n",
      "        Whether or not to include the default ``NaN`` values when parsing the data.\n",
      "        Depending on whether ``na_values`` is passed in, the behavior is as follows:\n",
      "\n",
      "        * If ``keep_default_na`` is ``True``, and ``na_values`` are specified, ``na_values``\n",
      "          is appended to the default ``NaN`` values used for parsing.\n",
      "        * If ``keep_default_na`` is ``True``, and ``na_values`` are not specified, only\n",
      "          the default ``NaN`` values are used for parsing.\n",
      "        * If ``keep_default_na`` is ``False``, and ``na_values`` are specified, only\n",
      "          the ``NaN`` values specified ``na_values`` are used for parsing.\n",
      "        * If ``keep_default_na`` is ``False``, and ``na_values`` are not specified, no\n",
      "          strings will be parsed as ``NaN``.\n",
      "\n",
      "        Note that if ``na_filter`` is passed in as ``False``, the ``keep_default_na`` and\n",
      "        ``na_values`` parameters will be ignored.\n",
      "    na_filter : bool, default True\n",
      "        Detect missing value markers (empty strings and the value of ``na_values``). In\n",
      "        data without any ``NA`` values, passing ``na_filter=False`` can improve the\n",
      "        performance of reading a large file.\n",
      "    verbose : bool, default False\n",
      "        Indicate number of ``NA`` values placed in non-numeric columns.\n",
      "\n",
      "        .. deprecated:: 2.2.0\n",
      "    skip_blank_lines : bool, default True\n",
      "        If ``True``, skip over blank lines rather than interpreting as ``NaN`` values.\n",
      "    parse_dates : bool, list of Hashable, list of lists or dict of {Hashable : list}, default False\n",
      "        The behavior is as follows:\n",
      "\n",
      "        * ``bool``. If ``True`` -> try parsing the index. Note: Automatically set to\n",
      "          ``True`` if ``date_format`` or ``date_parser`` arguments have been passed.\n",
      "        * ``list`` of ``int`` or names. e.g. If ``[1, 2, 3]`` -> try parsing columns 1, 2, 3\n",
      "          each as a separate date column.\n",
      "        * ``list`` of ``list``. e.g.  If ``[[1, 3]]`` -> combine columns 1 and 3 and parse\n",
      "          as a single date column. Values are joined with a space before parsing.\n",
      "        * ``dict``, e.g. ``{'foo' : [1, 3]}`` -> parse columns 1, 3 as date and call\n",
      "          result 'foo'. Values are joined with a space before parsing.\n",
      "\n",
      "        If a column or index cannot be represented as an array of ``datetime``,\n",
      "        say because of an unparsable value or a mixture of timezones, the column\n",
      "        or index will be returned unaltered as an ``object`` data type. For\n",
      "        non-standard ``datetime`` parsing, use :func:`~pandas.to_datetime` after\n",
      "        :func:`~pandas.read_csv`.\n",
      "\n",
      "        Note: A fast-path exists for iso8601-formatted dates.\n",
      "    infer_datetime_format : bool, default False\n",
      "        If ``True`` and ``parse_dates`` is enabled, pandas will attempt to infer the\n",
      "        format of the ``datetime`` strings in the columns, and if it can be inferred,\n",
      "        switch to a faster method of parsing them. In some cases this can increase\n",
      "        the parsing speed by 5-10x.\n",
      "\n",
      "        .. deprecated:: 2.0.0\n",
      "            A strict version of this argument is now the default, passing it has no effect.\n",
      "\n",
      "    keep_date_col : bool, default False\n",
      "        If ``True`` and ``parse_dates`` specifies combining multiple columns then\n",
      "        keep the original columns.\n",
      "    date_parser : Callable, optional\n",
      "        Function to use for converting a sequence of string columns to an array of\n",
      "        ``datetime`` instances. The default uses ``dateutil.parser.parser`` to do the\n",
      "        conversion. pandas will try to call ``date_parser`` in three different ways,\n",
      "        advancing to the next if an exception occurs: 1) Pass one or more arrays\n",
      "        (as defined by ``parse_dates``) as arguments; 2) concatenate (row-wise) the\n",
      "        string values from the columns defined by ``parse_dates`` into a single array\n",
      "        and pass that; and 3) call ``date_parser`` once for each row using one or\n",
      "        more strings (corresponding to the columns defined by ``parse_dates``) as\n",
      "        arguments.\n",
      "\n",
      "        .. deprecated:: 2.0.0\n",
      "           Use ``date_format`` instead, or read in as ``object`` and then apply\n",
      "           :func:`~pandas.to_datetime` as-needed.\n",
      "    date_format : str or dict of column -> format, optional\n",
      "        Format to use for parsing dates when used in conjunction with ``parse_dates``.\n",
      "        The strftime to parse time, e.g. :const:`\"%d/%m/%Y\"`. See\n",
      "        `strftime documentation\n",
      "        <https://docs.python.org/3/library/datetime.html\n",
      "        #strftime-and-strptime-behavior>`_ for more information on choices, though\n",
      "        note that :const:`\"%f\"` will parse all the way up to nanoseconds.\n",
      "        You can also pass:\n",
      "\n",
      "        - \"ISO8601\", to parse any `ISO8601 <https://en.wikipedia.org/wiki/ISO_8601>`_\n",
      "            time string (not necessarily in exactly the same format);\n",
      "        - \"mixed\", to infer the format for each element individually. This is risky,\n",
      "            and you should probably use it along with `dayfirst`.\n",
      "\n",
      "        .. versionadded:: 2.0.0\n",
      "    dayfirst : bool, default False\n",
      "        DD/MM format dates, international and European format.\n",
      "    cache_dates : bool, default True\n",
      "        If ``True``, use a cache of unique, converted dates to apply the ``datetime``\n",
      "        conversion. May produce significant speed-up when parsing duplicate\n",
      "        date strings, especially ones with timezone offsets.\n",
      "\n",
      "    iterator : bool, default False\n",
      "        Return ``TextFileReader`` object for iteration or getting chunks with\n",
      "        ``get_chunk()``.\n",
      "    chunksize : int, optional\n",
      "        Number of lines to read from the file per chunk. Passing a value will cause the\n",
      "        function to return a ``TextFileReader`` object for iteration.\n",
      "        See the `IO Tools docs\n",
      "        <https://pandas.pydata.org/pandas-docs/stable/io.html#io-chunking>`_\n",
      "        for more information on ``iterator`` and ``chunksize``.\n",
      "\n",
      "    compression : str or dict, default 'infer'\n",
      "        For on-the-fly decompression of on-disk data. If 'infer' and 'filepath_or_buffer' is\n",
      "        path-like, then detect compression from the following extensions: '.gz',\n",
      "        '.bz2', '.zip', '.xz', '.zst', '.tar', '.tar.gz', '.tar.xz' or '.tar.bz2'\n",
      "        (otherwise no compression).\n",
      "        If using 'zip' or 'tar', the ZIP file must contain only one data file to be read in.\n",
      "        Set to ``None`` for no decompression.\n",
      "        Can also be a dict with key ``'method'`` set\n",
      "        to one of {``'zip'``, ``'gzip'``, ``'bz2'``, ``'zstd'``, ``'xz'``, ``'tar'``} and\n",
      "        other key-value pairs are forwarded to\n",
      "        ``zipfile.ZipFile``, ``gzip.GzipFile``,\n",
      "        ``bz2.BZ2File``, ``zstandard.ZstdDecompressor``, ``lzma.LZMAFile`` or\n",
      "        ``tarfile.TarFile``, respectively.\n",
      "        As an example, the following could be passed for Zstandard decompression using a\n",
      "        custom compression dictionary:\n",
      "        ``compression={'method': 'zstd', 'dict_data': my_compression_dict}``.\n",
      "\n",
      "        .. versionadded:: 1.5.0\n",
      "            Added support for `.tar` files.\n",
      "\n",
      "        .. versionchanged:: 1.4.0 Zstandard support.\n",
      "\n",
      "    thousands : str (length 1), optional\n",
      "        Character acting as the thousands separator in numerical values.\n",
      "    decimal : str (length 1), default '.'\n",
      "        Character to recognize as decimal point (e.g., use ',' for European data).\n",
      "    lineterminator : str (length 1), optional\n",
      "        Character used to denote a line break. Only valid with C parser.\n",
      "    quotechar : str (length 1), optional\n",
      "        Character used to denote the start and end of a quoted item. Quoted\n",
      "        items can include the ``delimiter`` and it will be ignored.\n",
      "    quoting : {0 or csv.QUOTE_MINIMAL, 1 or csv.QUOTE_ALL, 2 or csv.QUOTE_NONNUMERIC, 3 or csv.QUOTE_NONE}, default csv.QUOTE_MINIMAL\n",
      "        Control field quoting behavior per ``csv.QUOTE_*`` constants. Default is\n",
      "        ``csv.QUOTE_MINIMAL`` (i.e., 0) which implies that only fields containing special\n",
      "        characters are quoted (e.g., characters defined in ``quotechar``, ``delimiter``,\n",
      "        or ``lineterminator``.\n",
      "    doublequote : bool, default True\n",
      "       When ``quotechar`` is specified and ``quoting`` is not ``QUOTE_NONE``, indicate\n",
      "       whether or not to interpret two consecutive ``quotechar`` elements INSIDE a\n",
      "       field as a single ``quotechar`` element.\n",
      "    escapechar : str (length 1), optional\n",
      "        Character used to escape other characters.\n",
      "    comment : str (length 1), optional\n",
      "        Character indicating that the remainder of line should not be parsed.\n",
      "        If found at the beginning\n",
      "        of a line, the line will be ignored altogether. This parameter must be a\n",
      "        single character. Like empty lines (as long as ``skip_blank_lines=True``),\n",
      "        fully commented lines are ignored by the parameter ``header`` but not by\n",
      "        ``skiprows``. For example, if ``comment='#'``, parsing\n",
      "        ``#empty\\na,b,c\\n1,2,3`` with ``header=0`` will result in ``'a,b,c'`` being\n",
      "        treated as the header.\n",
      "    encoding : str, optional, default 'utf-8'\n",
      "        Encoding to use for UTF when reading/writing (ex. ``'utf-8'``). `List of Python\n",
      "        standard encodings\n",
      "        <https://docs.python.org/3/library/codecs.html#standard-encodings>`_ .\n",
      "\n",
      "    encoding_errors : str, optional, default 'strict'\n",
      "        How encoding errors are treated. `List of possible values\n",
      "        <https://docs.python.org/3/library/codecs.html#error-handlers>`_ .\n",
      "\n",
      "        .. versionadded:: 1.3.0\n",
      "\n",
      "    dialect : str or csv.Dialect, optional\n",
      "        If provided, this parameter will override values (default or not) for the\n",
      "        following parameters: ``delimiter``, ``doublequote``, ``escapechar``,\n",
      "        ``skipinitialspace``, ``quotechar``, and ``quoting``. If it is necessary to\n",
      "        override values, a ``ParserWarning`` will be issued. See ``csv.Dialect``\n",
      "        documentation for more details.\n",
      "    on_bad_lines : {'error', 'warn', 'skip'} or Callable, default 'error'\n",
      "        Specifies what to do upon encountering a bad line (a line with too many fields).\n",
      "        Allowed values are :\n",
      "\n",
      "        - ``'error'``, raise an Exception when a bad line is encountered.\n",
      "        - ``'warn'``, raise a warning when a bad line is encountered and skip that line.\n",
      "        - ``'skip'``, skip bad lines without raising or warning when they are encountered.\n",
      "\n",
      "        .. versionadded:: 1.3.0\n",
      "\n",
      "        .. versionadded:: 1.4.0\n",
      "\n",
      "            - Callable, function with signature\n",
      "              ``(bad_line: list[str]) -> list[str] | None`` that will process a single\n",
      "              bad line. ``bad_line`` is a list of strings split by the ``sep``.\n",
      "              If the function returns ``None``, the bad line will be ignored.\n",
      "              If the function returns a new ``list`` of strings with more elements than\n",
      "              expected, a ``ParserWarning`` will be emitted while dropping extra elements.\n",
      "              Only supported when ``engine='python'``\n",
      "\n",
      "        .. versionchanged:: 2.2.0\n",
      "\n",
      "            - Callable, function with signature\n",
      "              as described in `pyarrow documentation\n",
      "              <https://arrow.apache.org/docs/python/generated/pyarrow.csv.ParseOptions.html\n",
      "              #pyarrow.csv.ParseOptions.invalid_row_handler>`_ when ``engine='pyarrow'``\n",
      "\n",
      "    delim_whitespace : bool, default False\n",
      "        Specifies whether or not whitespace (e.g. ``' '`` or ``'\\t'``) will be\n",
      "        used as the ``sep`` delimiter. Equivalent to setting ``sep='\\s+'``. If this option\n",
      "        is set to ``True``, nothing should be passed in for the ``delimiter``\n",
      "        parameter.\n",
      "\n",
      "        .. deprecated:: 2.2.0\n",
      "            Use ``sep=\"\\s+\"`` instead.\n",
      "    low_memory : bool, default True\n",
      "        Internally process the file in chunks, resulting in lower memory use\n",
      "        while parsing, but possibly mixed type inference.  To ensure no mixed\n",
      "        types either set ``False``, or specify the type with the ``dtype`` parameter.\n",
      "        Note that the entire file is read into a single :class:`~pandas.DataFrame`\n",
      "        regardless, use the ``chunksize`` or ``iterator`` parameter to return the data in\n",
      "        chunks. (Only valid with C parser).\n",
      "    memory_map : bool, default False\n",
      "        If a filepath is provided for ``filepath_or_buffer``, map the file object\n",
      "        directly onto memory and access the data directly from there. Using this\n",
      "        option can improve performance because there is no longer any I/O overhead.\n",
      "    float_precision : {'high', 'legacy', 'round_trip'}, optional\n",
      "        Specifies which converter the C engine should use for floating-point\n",
      "        values. The options are ``None`` or ``'high'`` for the ordinary converter,\n",
      "        ``'legacy'`` for the original lower precision pandas converter, and\n",
      "        ``'round_trip'`` for the round-trip converter.\n",
      "\n",
      "    storage_options : dict, optional\n",
      "        Extra options that make sense for a particular storage connection, e.g.\n",
      "        host, port, username, password, etc. For HTTP(S) URLs the key-value pairs\n",
      "        are forwarded to ``urllib.request.Request`` as header options. For other\n",
      "        URLs (e.g. starting with \"s3://\", and \"gcs://\") the key-value pairs are\n",
      "        forwarded to ``fsspec.open``. Please see ``fsspec`` and ``urllib`` for more\n",
      "        details, and for more examples on storage options refer `here\n",
      "        <https://pandas.pydata.org/docs/user_guide/io.html?\n",
      "        highlight=storage_options#reading-writing-remote-files>`_.\n",
      "\n",
      "    dtype_backend : {'numpy_nullable', 'pyarrow'}, default 'numpy_nullable'\n",
      "        Back-end data type applied to the resultant :class:`DataFrame`\n",
      "        (still experimental). Behaviour is as follows:\n",
      "\n",
      "        * ``\"numpy_nullable\"``: returns nullable-dtype-backed :class:`DataFrame`\n",
      "          (default).\n",
      "        * ``\"pyarrow\"``: returns pyarrow-backed nullable :class:`ArrowDtype`\n",
      "          DataFrame.\n",
      "\n",
      "        .. versionadded:: 2.0\n",
      "\n",
      "    Returns\n",
      "    -------\n",
      "    DataFrame or TextFileReader\n",
      "        A comma-separated values (csv) file is returned as two-dimensional\n",
      "        data structure with labeled axes.\n",
      "\n",
      "    See Also\n",
      "    --------\n",
      "    DataFrame.to_csv : Write DataFrame to a comma-separated values (csv) file.\n",
      "    read_table : Read general delimited file into DataFrame.\n",
      "    read_fwf : Read a table of fixed-width formatted lines into DataFrame.\n",
      "\n",
      "    Examples\n",
      "    --------\n",
      "    >>> pd.read_csv('data.csv')  # doctest: +SKIP\n",
      "\n"
     ]
    }
   ],
   "source": [
    "# check the help to find the solution\n",
    "help(pd.read_csv)"
   ]
  },
  {
   "cell_type": "markdown",
   "metadata": {
    "slideshow": {
     "slide_type": "slide"
    }
   },
   "source": [
    "## Exercise 1\n",
    "\n",
    "How should we read in adult_test.csv properly? Identify and fix the problem."
   ]
  },
  {
   "cell_type": "code",
   "execution_count": 15,
   "metadata": {
    "slideshow": {
     "slide_type": "slide"
    }
   },
   "outputs": [],
   "source": [
    "df = pd.read_csv('data/adult_test.csv')"
   ]
  },
  {
   "cell_type": "markdown",
   "metadata": {
    "slideshow": {
     "slide_type": "slide"
    }
   },
   "source": [
    "# <font color='LIGHTGRAY'><center> Data transformations: pandas data frames </center></font>\n",
    "###  <font color='LIGHTGRAY'>By the end of this lecture, you will be able to</font>\n",
    "   - <font color='LIGHTGRAY'>read in csv, excel, and sql data into a pandas data frame</font>\n",
    "   -  **filter rows in various ways**\n",
    "   -  <font color='LIGHTGRAY'>select columns</font>\n",
    "   -  <font color='LIGHTGRAY'>merge and append data frames</font>"
   ]
  },
  {
   "cell_type": "markdown",
   "metadata": {
    "slideshow": {
     "slide_type": "subslide"
    }
   },
   "source": [
    "### How to select rows?\n",
    "\n",
    "##### 1) Integer-based indexing, numpy arrays are indexed the same way.\n",
    "##### 2) Select rows based on the value of the index column\n",
    "##### 3) select rows based on column condition"
   ]
  },
  {
   "cell_type": "markdown",
   "metadata": {
    "slideshow": {
     "slide_type": "subslide"
    }
   },
   "source": [
    "### 1) Integer-based indexing, numpy arrays are indexed the same way.\n"
   ]
  },
  {
   "cell_type": "code",
   "execution_count": 4,
   "metadata": {
    "slideshow": {
     "slide_type": "-"
    }
   },
   "outputs": [
    {
     "name": "stdout",
     "output_type": "stream",
     "text": [
      "age                                44\n",
      "workclass                     Private\n",
      "fnlwgt                          83891\n",
      "education                   Bachelors\n",
      "education-num                      13\n",
      "marital-status               Divorced\n",
      "occupation               Adm-clerical\n",
      "relationship                Own-child\n",
      "race               Asian-Pac-Islander\n",
      "sex                              Male\n",
      "capital-gain                     5455\n",
      "capital-loss                        0\n",
      "hours-per-week                     40\n",
      "native-country          United-States\n",
      "gross-income                   <=50K.\n",
      "Name: 16279, dtype: object\n"
     ]
    }
   ],
   "source": [
    "# df.iloc[] - for more info, see https://pandas.pydata.org/pandas-docs/stable/user_guide/indexing.html#indexing-integer\n",
    "# iloc is how numpy arrays are indexed (non-standard python indexing)\n",
    "\n",
    "# [start:stop:step] -  general indexing format\n",
    "\n",
    "# start stop step are optional\n",
    "#print(df.iloc[:])\n",
    "#print(df.iloc[::])\n",
    "#print(df.iloc[::1])\n",
    "\n",
    "# select one row - 0-based indexing\n",
    "#print(df.iloc[3])\n",
    "\n",
    "# indexing from the end of the data frame\n",
    "print(df.iloc[-2]) "
   ]
  },
  {
   "cell_type": "code",
   "execution_count": 5,
   "metadata": {
    "slideshow": {
     "slide_type": "subslide"
    }
   },
   "outputs": [
    {
     "name": "stdout",
     "output_type": "stream",
     "text": [
      "   age workclass  fnlwgt      education  education-num       marital-status  \\\n",
      "1   38   Private   89814        HS-grad              9   Married-civ-spouse   \n",
      "4   18         ?  103497   Some-college             10        Never-married   \n",
      "9   55   Private  104996        7th-8th              4   Married-civ-spouse   \n",
      "\n",
      "         occupation relationship    race      sex  capital-gain  capital-loss  \\\n",
      "1   Farming-fishing      Husband   White     Male             0             0   \n",
      "4                 ?    Own-child   White   Female             0             0   \n",
      "9      Craft-repair      Husband   White     Male             0             0   \n",
      "\n",
      "   hours-per-week  native-country gross-income  \n",
      "1              50   United-States       <=50K.  \n",
      "4              30   United-States       <=50K.  \n",
      "9              10   United-States       <=50K.  \n"
     ]
    }
   ],
   "source": [
    "# select a slice - stop index not included\n",
    "#print(df.iloc[3:7])\n",
    "\n",
    "# select every second element of the slice - stop index not included\n",
    "#print(df.iloc[3:7:2])\n",
    "\n",
    "#print(df.iloc[3:7:-2]) # return empty dataframe\n",
    "#print(df.iloc[7:3:-2])#  return rows with indices 7 and 5. 3 is the stop so it is not included\n",
    "\n",
    "# can be used to reverse rows\n",
    "#print(df.iloc[::-1])\n",
    "\n",
    "# here is where indexing gets non-standard python\n",
    "# select the 2nd, 5th, and 10th rows\n",
    "print(df.iloc[[1,4,9]]) # such indexing doesn't work with lists but it works with numpy arrays"
   ]
  },
  {
   "cell_type": "markdown",
   "metadata": {
    "slideshow": {
     "slide_type": "subslide"
    }
   },
   "source": [
    "\n",
    "### 2) Select rows based on the value of the index column"
   ]
  },
  {
   "cell_type": "code",
   "execution_count": 6,
   "metadata": {
    "slideshow": {
     "slide_type": "-"
    }
   },
   "outputs": [
    {
     "name": "stdout",
     "output_type": "stream",
     "text": [
      "Help on method set_index in module pandas.core.frame:\n",
      "\n",
      "set_index(keys, *, drop: 'bool' = True, append: 'bool' = False, inplace: 'bool' = False, verify_integrity: 'bool' = False) -> 'DataFrame | None' method of pandas.core.frame.DataFrame instance\n",
      "    Set the DataFrame index using existing columns.\n",
      "\n",
      "    Set the DataFrame index (row labels) using one or more existing\n",
      "    columns or arrays (of the correct length). The index can replace the\n",
      "    existing index or expand on it.\n",
      "\n",
      "    Parameters\n",
      "    ----------\n",
      "    keys : label or array-like or list of labels/arrays\n",
      "        This parameter can be either a single column key, a single array of\n",
      "        the same length as the calling DataFrame, or a list containing an\n",
      "        arbitrary combination of column keys and arrays. Here, \"array\"\n",
      "        encompasses :class:`Series`, :class:`Index`, ``np.ndarray``, and\n",
      "        instances of :class:`~collections.abc.Iterator`.\n",
      "    drop : bool, default True\n",
      "        Delete columns to be used as the new index.\n",
      "    append : bool, default False\n",
      "        Whether to append columns to existing index.\n",
      "    inplace : bool, default False\n",
      "        Whether to modify the DataFrame rather than creating a new one.\n",
      "    verify_integrity : bool, default False\n",
      "        Check the new index for duplicates. Otherwise defer the check until\n",
      "        necessary. Setting to False will improve the performance of this\n",
      "        method.\n",
      "\n",
      "    Returns\n",
      "    -------\n",
      "    DataFrame or None\n",
      "        Changed row labels or None if ``inplace=True``.\n",
      "\n",
      "    See Also\n",
      "    --------\n",
      "    DataFrame.reset_index : Opposite of set_index.\n",
      "    DataFrame.reindex : Change to new indices or expand indices.\n",
      "    DataFrame.reindex_like : Change to same indices as other DataFrame.\n",
      "\n",
      "    Examples\n",
      "    --------\n",
      "    >>> df = pd.DataFrame({'month': [1, 4, 7, 10],\n",
      "    ...                    'year': [2012, 2014, 2013, 2014],\n",
      "    ...                    'sale': [55, 40, 84, 31]})\n",
      "    >>> df\n",
      "       month  year  sale\n",
      "    0      1  2012    55\n",
      "    1      4  2014    40\n",
      "    2      7  2013    84\n",
      "    3     10  2014    31\n",
      "\n",
      "    Set the index to become the 'month' column:\n",
      "\n",
      "    >>> df.set_index('month')\n",
      "           year  sale\n",
      "    month\n",
      "    1      2012    55\n",
      "    4      2014    40\n",
      "    7      2013    84\n",
      "    10     2014    31\n",
      "\n",
      "    Create a MultiIndex using columns 'year' and 'month':\n",
      "\n",
      "    >>> df.set_index(['year', 'month'])\n",
      "                sale\n",
      "    year  month\n",
      "    2012  1     55\n",
      "    2014  4     40\n",
      "    2013  7     84\n",
      "    2014  10    31\n",
      "\n",
      "    Create a MultiIndex using an Index and a column:\n",
      "\n",
      "    >>> df.set_index([pd.Index([1, 2, 3, 4]), 'year'])\n",
      "             month  sale\n",
      "       year\n",
      "    1  2012  1      55\n",
      "    2  2014  4      40\n",
      "    3  2013  7      84\n",
      "    4  2014  10     31\n",
      "\n",
      "    Create a MultiIndex using two Series:\n",
      "\n",
      "    >>> s = pd.Series([1, 2, 3, 4])\n",
      "    >>> df.set_index([s, s**2])\n",
      "          month  year  sale\n",
      "    1 1       1  2012    55\n",
      "    2 4       4  2014    40\n",
      "    3 9       7  2013    84\n",
      "    4 16     10  2014    31\n",
      "\n"
     ]
    }
   ],
   "source": [
    "# df.loc[] - for more info, see https://pandas.pydata.org/pandas-docs/stable/user_guide/indexing.html#indexing-label\n",
    "\n",
    "#print(df.index) # the default index when reading in a file is a range index. In this case,\n",
    "                 # .loc and .iloc works ALMOST the same.\n",
    "# one difference:\n",
    "#print(df.loc[3:9:2]) # this selects the 4th, 6th, 8th, 10th rows - the stop element is included!\n",
    "\n",
    "help(df.set_index)"
   ]
  },
  {
   "cell_type": "code",
   "execution_count": 7,
   "metadata": {
    "slideshow": {
     "slide_type": "subslide"
    }
   },
   "outputs": [
    {
     "name": "stdout",
     "output_type": "stream",
     "text": [
      "     age   workclass  fnlwgt    education  education-num       marital-status  \\\n",
      "age                                                                             \n",
      "30    30     Private  101135    Bachelors             13        Never-married   \n",
      "30    30     Private  229636      HS-grad              9   Married-civ-spouse   \n",
      "30    30     Private  142921   Assoc-acdm             12        Never-married   \n",
      "30    30   State-gov  260782      HS-grad              9        Never-married   \n",
      "30    30     Private  296462      HS-grad              9        Never-married   \n",
      "\n",
      "             occupation    relationship    race      sex  capital-gain  \\\n",
      "age                                                                      \n",
      "30      Exec-managerial   Not-in-family   White   Female             0   \n",
      "30    Machine-op-inspct         Husband   White     Male             0   \n",
      "30       Prof-specialty   Not-in-family   White   Female             0   \n",
      "30        Other-service   Not-in-family   White     Male             0   \n",
      "30      Exec-managerial   Not-in-family   Black     Male             0   \n",
      "\n",
      "     capital-loss  hours-per-week  native-country gross-income  \n",
      "age                                                             \n",
      "30              0              50   United-States       <=50K.  \n",
      "30              0              40          Mexico       <=50K.  \n",
      "30              0              40   United-States       <=50K.  \n",
      "30              0              40   United-States       <=50K.  \n",
      "30              0              40   United-States       <=50K.  \n"
     ]
    }
   ],
   "source": [
    "df_index_age = df.set_index('age',drop=False)\n",
    "\n",
    "#print(df_index_age.head())\n",
    "#print(df_index_age.index)\n",
    "#print(df_index_age.head())\n",
    "\n",
    "print(df_index_age.loc[30].head()) # collect everyone with age 30 - the index is non-unique\n"
   ]
  },
  {
   "cell_type": "markdown",
   "metadata": {
    "slideshow": {
     "slide_type": "subslide"
    }
   },
   "source": [
    "### 3) select rows based on column condition"
   ]
  },
  {
   "cell_type": "code",
   "execution_count": 8,
   "metadata": {
    "slideshow": {
     "slide_type": "-"
    }
   },
   "outputs": [
    {
     "name": "stdout",
     "output_type": "stream",
     "text": [
      "       age          workclass  fnlwgt      education  education-num  \\\n",
      "899     90            Private  149069     Assoc-acdm             12   \n",
      "2047    65            Private  444725    Prof-school             15   \n",
      "2779    55   Self-emp-not-inc  218456        Masters             14   \n",
      "3496    90   Self-emp-not-inc   83601    Prof-school             15   \n",
      "6822    44            Private  254303        Masters             14   \n",
      "6976    90            Private  250832        HS-grad              9   \n",
      "7414    90            Private  227796     Assoc-acdm             12   \n",
      "7419    90   Self-emp-not-inc  122348    Prof-school             15   \n",
      "8427    90        Federal-gov  311184        Masters             14   \n",
      "8982    90            Private  225063        HS-grad              9   \n",
      "10666   71                  ?  158437        5th-6th              3   \n",
      "10735   90          Local-gov  188242        HS-grad              9   \n",
      "11871   90                  ?   50746           10th              6   \n",
      "12437   53   Self-emp-not-inc  169112      Bachelors             13   \n",
      "12446   90            Private  347074   Some-college             10   \n",
      "13958   90            Private  272752   Some-college             10   \n",
      "15088   90            Private  197613        HS-grad              9   \n",
      "15404   27   Self-emp-not-inc  177831        HS-grad              9   \n",
      "\n",
      "               marital-status         occupation    relationship  \\\n",
      "899        Married-civ-spouse              Sales         Husband   \n",
      "2047    Married-spouse-absent       Craft-repair   Not-in-family   \n",
      "2779                 Divorced    Exec-managerial   Not-in-family   \n",
      "3496                  Widowed     Prof-specialty   Not-in-family   \n",
      "6822            Never-married     Prof-specialty   Not-in-family   \n",
      "6976       Married-civ-spouse   Transport-moving         Husband   \n",
      "7414            Never-married    Exec-managerial   Not-in-family   \n",
      "7419       Married-civ-spouse     Prof-specialty         Husband   \n",
      "8427                 Divorced     Prof-specialty   Not-in-family   \n",
      "8982       Married-civ-spouse       Craft-repair         Husband   \n",
      "10666      Married-civ-spouse                  ?         Husband   \n",
      "10735           Never-married       Craft-repair       Own-child   \n",
      "11871                Divorced                  ?   Not-in-family   \n",
      "12437      Married-civ-spouse    Exec-managerial         Husband   \n",
      "12446           Never-married       Adm-clerical       Own-child   \n",
      "13958           Never-married      Other-service       Own-child   \n",
      "15088           Never-married       Adm-clerical   Not-in-family   \n",
      "15404      Married-civ-spouse       Craft-repair         Husband   \n",
      "\n",
      "                      race      sex  capital-gain  capital-loss  \\\n",
      "899                  White     Male             0          1825   \n",
      "2047                 White     Male             0             0   \n",
      "2779                 White   Female             0             0   \n",
      "3496                 White     Male          1086             0   \n",
      "6822                 White     Male             0             0   \n",
      "6976                 White     Male          2414             0   \n",
      "7414                 White     Male          6097             0   \n",
      "7419                 White     Male         20051             0   \n",
      "8427                 White     Male             0             0   \n",
      "8982    Asian-Pac-Islander     Male             0             0   \n",
      "10666                White     Male             0             0   \n",
      "10735                White     Male         11678             0   \n",
      "11871                White   Female             0             0   \n",
      "12437                White     Male             0             0   \n",
      "12446                White   Female             0          1944   \n",
      "13958                White     Male             0             0   \n",
      "15088                White   Female             0             0   \n",
      "15404                White     Male             0             0   \n",
      "\n",
      "       hours-per-week  native-country gross-income  \n",
      "899                50   United-States        >50K.  \n",
      "2047               48         Hungary        >50K.  \n",
      "2779               50         Hungary       <=50K.  \n",
      "3496               60   United-States       <=50K.  \n",
      "6822               40         Hungary        >50K.  \n",
      "6976               40   United-States       <=50K.  \n",
      "7414               45   United-States        >50K.  \n",
      "7419               45   United-States        >50K.  \n",
      "8427               99   United-States       <=50K.  \n",
      "8982               40           South       <=50K.  \n",
      "10666              40         Hungary       <=50K.  \n",
      "10735              40   United-States        >50K.  \n",
      "11871               7   United-States       <=50K.  \n",
      "12437              40         Hungary        >50K.  \n",
      "12446              12   United-States       <=50K.  \n",
      "13958              10   United-States       <=50K.  \n",
      "15088              40   United-States        >50K.  \n",
      "15404              40         Hungary       <=50K.  \n"
     ]
    }
   ],
   "source": [
    "# one condition\n",
    "#print(df[df['age']==30].head())\n",
    "# here is the condition: it's a boolean series - series is basically a dataframe with one column\n",
    "#print(df['age']==30)\n",
    "\n",
    "# multiple conditions can be combined with & (and) | (or)\n",
    "#print(df[(df['age']>30)&(df['age']<35)].head())\n",
    "print(df[(df['age']==90)|(df['native-country']==' Hungary')])"
   ]
  },
  {
   "cell_type": "markdown",
   "metadata": {
    "slideshow": {
     "slide_type": "skip"
    }
   },
   "source": [
    "### Exercise 2\n",
    "How many people in adult_data.csv work at least 60 hours a week and have a doctorate?"
   ]
  },
  {
   "cell_type": "code",
   "execution_count": null,
   "metadata": {},
   "outputs": [],
   "source": []
  },
  {
   "cell_type": "markdown",
   "metadata": {
    "slideshow": {
     "slide_type": "subslide"
    }
   },
   "source": [
    "# <font color='LIGHTGRAY'><center> Data transformations: pandas data frames </center></font>\n",
    "###  <font color='LIGHTGRAY'>By the end of this lecture, you will be able to</font>\n",
    "   - <font color='LIGHTGRAY'>read in csv, excel, and sql data into a pandas data frame</font>\n",
    "   -  <font color='LIGHTGRAY'>filter rows in various ways</font>\n",
    "   -  **select columns**\n",
    "   -  <font color='LIGHTGRAY'>merge and append data frames</font>"
   ]
  },
  {
   "cell_type": "code",
   "execution_count": 10,
   "metadata": {
    "slideshow": {
     "slide_type": "slide"
    }
   },
   "outputs": [
    {
     "name": "stdout",
     "output_type": "stream",
     "text": [
      "       age  fnlwgt  education-num          occupation    race  capital-gain  \\\n",
      "0       39   77516             13        Adm-clerical   White          2174   \n",
      "1       50   83311             13     Exec-managerial   White             0   \n",
      "2       38  215646              9   Handlers-cleaners   White             0   \n",
      "3       53  234721              7   Handlers-cleaners   Black             0   \n",
      "4       28  338409             13      Prof-specialty   Black             0   \n",
      "...    ...     ...            ...                 ...     ...           ...   \n",
      "32556   27  257302             12        Tech-support   White             0   \n",
      "32557   40  154374              9   Machine-op-inspct   White             0   \n",
      "32558   58  151910              9        Adm-clerical   White             0   \n",
      "32559   22  201490              9        Adm-clerical   White             0   \n",
      "32560   52  287927              9     Exec-managerial   White         15024   \n",
      "\n",
      "       hours-per-week gross-income  \n",
      "0                  40        <=50K  \n",
      "1                  13        <=50K  \n",
      "2                  40        <=50K  \n",
      "3                  40        <=50K  \n",
      "4                  40        <=50K  \n",
      "...               ...          ...  \n",
      "32556              38        <=50K  \n",
      "32557              40         >50K  \n",
      "32558              40        <=50K  \n",
      "32559              20        <=50K  \n",
      "32560              40         >50K  \n",
      "\n",
      "[32561 rows x 8 columns]\n"
     ]
    }
   ],
   "source": [
    "columns =  df.columns\n",
    "#print(columns)\n",
    "\n",
    "# select columns by column name\n",
    "#print(df[['age','hours-per-week']])\n",
    "#print(columns[[1,5,7]])\n",
    "#print(df[columns[[1,5,7]]])\n",
    "\n",
    "# select columns by index using iloc\n",
    "#print(df.iloc[:,3])\n",
    "\n",
    "# select columns by index - not standard python indexing\n",
    "#print(df.iloc[:,[3,5,6]])\n",
    "\n",
    "# select columns by index -  standard python indexing\n",
    "print(df.iloc[:,::2])\n"
   ]
  },
  {
   "cell_type": "markdown",
   "metadata": {
    "slideshow": {
     "slide_type": "slide"
    }
   },
   "source": [
    "# <font color='LIGHTGRAY'><center> Data transformations: pandas data frames </center></font>\n",
    "###  <font color='LIGHTGRAY'>By the end of this lecture, you will be able to</font>\n",
    "   - <font color='LIGHTGRAY'>read in csv, excel, and sql data into a pandas data frame</font>\n",
    "   -  <font color='LIGHTGRAY'>filter rows in various ways</font>\n",
    "   -  <font color='LIGHTGRAY'>select columns</font>\n",
    "   -  **merge and append data frames**"
   ]
  },
  {
   "cell_type": "markdown",
   "metadata": {
    "slideshow": {
     "slide_type": "subslide"
    }
   },
   "source": [
    "### How to merge dataframes?\n",
    "\n",
    "Merge - info on data points are distributed in multiple files"
   ]
  },
  {
   "cell_type": "code",
   "execution_count": 11,
   "metadata": {
    "slideshow": {
     "slide_type": "-"
    }
   },
   "outputs": [
    {
     "name": "stdout",
     "output_type": "stream",
     "text": [
      "    ID  col1 col2\n",
      "0  ID1     5    y\n",
      "1  ID2     8    j\n",
      "2  ID3     2    w\n",
      "3  ID4     6    b\n",
      "4  ID5     0    a\n",
      "5  ID6     2    b\n",
      "6  ID7     5    t\n",
      "     ID  col3 col2\n",
      "0   ID2    12    q\n",
      "1   ID5    76    u\n",
      "2   ID6    34    e\n",
      "3  ID10    98    l\n",
      "4  ID11    65    p\n"
     ]
    }
   ],
   "source": [
    "# We have two datasets from two hospitals\n",
    "\n",
    "hospital1 = {'ID':['ID1','ID2','ID3','ID4','ID5','ID6','ID7'],'col1':[5,8,2,6,0,2,5],'col2':['y','j','w','b','a','b','t']}\n",
    "df1 = pd.DataFrame(data=hospital1)\n",
    "print(df1)\n",
    "\n",
    "hospital2 = {'ID':['ID2','ID5','ID6','ID10','ID11'],'col3':[12,76,34,98,65],'col2':['q','u','e','l','p']}\n",
    "df2 = pd.DataFrame(data=hospital2)\n",
    "print(df2)\n",
    "\n"
   ]
  },
  {
   "cell_type": "code",
   "execution_count": 12,
   "metadata": {
    "slideshow": {
     "slide_type": "slide"
    }
   },
   "outputs": [
    {
     "name": "stdout",
     "output_type": "stream",
     "text": [
      "    ID  col1 col2_x  col3 col2_y\n",
      "0  ID1     5      y   NaN    NaN\n",
      "1  ID2     8      j  12.0      q\n",
      "2  ID3     2      w   NaN    NaN\n",
      "3  ID4     6      b   NaN    NaN\n",
      "4  ID5     0      a  76.0      u\n",
      "5  ID6     2      b  34.0      e\n",
      "6  ID7     5      t   NaN    NaN\n",
      "     ID  col1 col2_x  col3 col2_y\n",
      "0   ID1   5.0      y   NaN    NaN\n",
      "1  ID10   NaN    NaN  98.0      l\n",
      "2  ID11   NaN    NaN  65.0      p\n",
      "3   ID2   8.0      j  12.0      q\n",
      "4   ID3   2.0      w   NaN    NaN\n",
      "5   ID4   6.0      b   NaN    NaN\n",
      "6   ID5   0.0      a  76.0      u\n",
      "7   ID6   2.0      b  34.0      e\n",
      "8   ID7   5.0      t   NaN    NaN\n"
     ]
    }
   ],
   "source": [
    "# we are interested in only patients from hospital1\n",
    "df_left = df1.merge(df2,how='left',on='ID') # IDs from the left dataframe (df1) are kept\n",
    "print(df_left)\n",
    "\n",
    "# we are interested in only patients from hospital2\n",
    "#df_right = df1.merge(df2,how='right',on='ID') # IDs from the right dataframe (df2) are kept\n",
    "#df_right = df2.merge(df1,how='left',on='ID')\n",
    "#print(df_right)\n",
    "\n",
    "# we are interested in patiens who were in both hospitals\n",
    "#df_inner = df1.merge(df2,how='inner',on='ID') # merging on IDs present in both dataframes\n",
    "#print(df_inner)\n",
    "\n",
    "# we are interested in all patients who visited at least one of the hospitals\n",
    "df_outer = df1.merge(df2,how='outer',on='ID')  # merging on IDs present in any dataframe\n",
    "print(df_outer)"
   ]
  },
  {
   "cell_type": "markdown",
   "metadata": {
    "slideshow": {
     "slide_type": "subslide"
    }
   },
   "source": [
    "### How to append dataframes?\n",
    "\n",
    "Append - new data comes in over a period of time. E.g., one file per month/quarter/fiscal year etc.\n",
    "\n",
    "\n",
    "You want to combine these files into one data frame."
   ]
  },
  {
   "cell_type": "code",
   "execution_count": 13,
   "metadata": {},
   "outputs": [
    {
     "name": "stdout",
     "output_type": "stream",
     "text": [
      "      ID  col1 col2  col3\n",
      "0    ID1   5.0    y   NaN\n",
      "1    ID2   8.0    j   NaN\n",
      "2    ID3   2.0    w   NaN\n",
      "3    ID4   6.0    b   NaN\n",
      "4    ID5   0.0    a   NaN\n",
      "5    ID6   2.0    b   NaN\n",
      "6    ID7   5.0    t   NaN\n",
      "7    ID2   NaN    q  12.0\n",
      "8    ID5   NaN    u  76.0\n",
      "9    ID6   NaN    e  34.0\n",
      "10  ID10   NaN    l  98.0\n",
      "11  ID11   NaN    p  65.0\n"
     ]
    }
   ],
   "source": [
    "#df_append = pd.concat([df1,df2]) # note that rows with ID2, ID5, and ID6  are duplicated! Indices are duplicated too.\n",
    "#print(df_append)\n",
    "\n",
    "df_append = pd.concat([df1,df2],ignore_index=True) # note that rows with ID2, ID5, and ID6  are duplicated! \n",
    "print(df_append)\n",
    "\n",
    "# d3 = {'ID':['ID23','ID94','ID56','ID17'],'col1':['rt','h','st','ne'],'col2':[23,86,23,78]}\n",
    "# df3 = pd.DataFrame(data=d3)\n",
    "# print(df3)\n",
    "\n",
    "# df_append = pd.concat([df1,df2,df3],ignore_index=True) # multiple dataframes can be appended\n",
    "# print(df_append)\n",
    "\n"
   ]
  },
  {
   "cell_type": "markdown",
   "metadata": {
    "slideshow": {
     "slide_type": "skip"
    }
   },
   "source": [
    "### Exercise 3"
   ]
  },
  {
   "cell_type": "code",
   "execution_count": 14,
   "metadata": {
    "slideshow": {
     "slide_type": "skip"
    }
   },
   "outputs": [],
   "source": [
    "\n",
    "raw_data_1 = {\n",
    "        'subject_id': ['1', '2', '3', '4', '5'],\n",
    "        'first_name': ['Alex', 'Amy', 'Allen', 'Alice', 'Ayoung'], \n",
    "        'last_name': ['Anderson', 'Ackerman', 'Ali', 'Aoni', 'Atiches']}\n",
    "\n",
    "raw_data_2 = {\n",
    "        'subject_id': ['6', '7', '8', '9', '10'],\n",
    "        'first_name': ['Billy', 'Brian', 'Bran', 'Bryce', 'Betty'], \n",
    "        'last_name': ['Bonder', 'Black', 'Balwner', 'Brice', 'Btisan']}\n",
    "\n",
    "raw_data_3 = {\n",
    "        'subject_id': ['1', '2', '3', '4', '5', '7', '8', '9', '10', '11'],\n",
    "        'test_id': [51, 15, 15, 61, 16, 14, 15, 1, 61, 16]}\n",
    "\n",
    "# Create three data frames from raw_data_1, 2, and 3.\n",
    "# Append the first two data frames and assign it to df_append.\n",
    "# Merge the third data frame with df_append such that only subject_ids from df_append are present. \n",
    "# Assign the new data frame to df_merge. \n",
    "# How many rows and columns do we have in df_merge?\n"
   ]
  },
  {
   "cell_type": "markdown",
   "metadata": {
    "slideshow": {
     "slide_type": "slide"
    }
   },
   "source": [
    "### Always check that the resulting dataframe is what you wanted to end up with!\n",
    "- small toy datasets are ideal to test your code.\n",
    "\n",
    "### If you need to do a more complicated dataframe operation, check out pd.concat()!\n",
    "\n",
    "### We will learn how to add/delete/modify columns later when we learn about feature engineering."
   ]
  },
  {
   "cell_type": "markdown",
   "metadata": {
    "slideshow": {
     "slide_type": "slide"
    }
   },
   "source": [
    "### By now, you are able to\n",
    "   - read in csv, excel, and sql data into a pandas data frame\n",
    "   - filter rows in various ways\n",
    "   - select columns\n",
    "   - merge and append data frames"
   ]
  },
  {
   "cell_type": "markdown",
   "metadata": {},
   "source": [
    "# Mud card"
   ]
  },
  {
   "cell_type": "code",
   "execution_count": null,
   "metadata": {},
   "outputs": [],
   "source": []
  }
 ],
 "metadata": {
  "celltoolbar": "Slideshow",
  "kernelspec": {
   "display_name": "Python 3 (ipykernel)",
   "language": "python",
   "name": "python3"
  },
  "language_info": {
   "codemirror_mode": {
    "name": "ipython",
    "version": 3
   },
   "file_extension": ".py",
   "mimetype": "text/x-python",
   "name": "python",
   "nbconvert_exporter": "python",
   "pygments_lexer": "ipython3",
   "version": "3.12.5"
  }
 },
 "nbformat": 4,
 "nbformat_minor": 4
}
